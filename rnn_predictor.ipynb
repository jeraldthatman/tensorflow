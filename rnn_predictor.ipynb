{
 "cells": [
  {
   "cell_type": "code",
   "execution_count": 10,
   "metadata": {},
   "outputs": [],
   "source": [
    "import pandas as pd\n",
    "import numpy as np\n",
    "from sklearn import preprocessing\n",
    "from collections import deque"
   ]
  },
  {
   "cell_type": "code",
   "execution_count": 11,
   "metadata": {},
   "outputs": [
    {
     "name": "stdout",
     "output_type": "stream",
     "text": [
      "Stocks Loaded:  ['AAPL', 'BNO', 'CORN', 'FDN', 'GDX', 'IBB', 'IGV', 'ITB', 'JETS', 'LQD', 'MOO', 'PBW', 'PHO', 'SMH', 'SPY', 'TAN', 'TLT', 'UUP', 'WEAT', 'XLB', 'XLC', 'XLE', 'XLF', 'XLI', 'XLK', 'XLP', 'XLRE', 'XLU', 'XLV', 'XLY', 'XME', 'XRT']\n"
     ]
    }
   ],
   "source": [
    "# Load in the data \n",
    "def load_stock_csv():\n",
    "    sp = pd.read_csv('stock_prices.csv', header=[0,1])\n",
    "    sp.set_index(sp.columns[0], inplace= True)\n",
    "    sp.index.name = 'Date'\n",
    "    sp.columns.names =['Metric', 'Stock_name']\n",
    "    return  sp.iloc[1:, :]\n",
    "\n",
    "df = load_stock_csv()\n",
    "\n",
    "def add_stock_price(stock, sp = df):\n",
    "    out = sp.xs(key = stock.upper(), axis = 1, level = 'Stock_name', drop_level=True)\n",
    "    out.columns.names = ['']\n",
    "    out.columns = out.columns.get_level_values(0)\n",
    "    return out.copy()\n",
    "\n",
    "\n",
    "STOCKS = df.columns.get_level_values(1).unique().to_list()\n",
    "print('Stocks Loaded: ', STOCKS)\n"
   ]
  },
  {
   "cell_type": "markdown",
   "metadata": {},
   "source": [
    "# Make some targets for the model to predict with \n",
    "- target is the variable \n",
    "- seq_len is how many days we will use to predict \n",
    "- future_pred is the amount of days we will try to predict into the future. \n",
    "\n",
    "    - The classify clause allows you to make a dummy column indicating a buy or a sell signal \n",
    "    - when the future price is greater than the current price, this is a buy signal. \n",
    "    - when the future price is less than the current price, this is a sell or neutral signal. "
   ]
  },
  {
   "cell_type": "markdown",
   "metadata": {},
   "source": [
    "# Need to seperate out of sample data.\n",
    "- good practice for time series\n",
    "- without doing this the model will overfit, causing the loss to skyrocket. \n",
    "- seperating the last 5% of the data allows us to forward test on the last 5 percent. "
   ]
  },
  {
   "cell_type": "code",
   "execution_count": 12,
   "metadata": {},
   "outputs": [],
   "source": [
    "def add_stock_price(stock, sp = df):\n",
    "    out = sp.xs(key = stock.upper(), axis = 1, level = 'Stock_name', drop_level=True).dropna()\n",
    "    out.columns.names = ['']\n",
    "    out.columns = out.columns.get_level_values(0)\n",
    "    return out.copy()\n",
    "    \n",
    "def classify(current, future):\n",
    "    \"\"\" Classify a Buy or Sell Signal, If the future price is greater than the current price, then it is a buy signal, otherwise it is a sell signal\"\"\"\n",
    "    if float(future) >float(current):\n",
    "        return 1\n",
    "    else:\n",
    "        return 0\n",
    "\n",
    "def shift_target(stock, future_pred, target = 'Close'):\n",
    "    \"\"\"Shift the Target variable into the future\"\"\"\n",
    "    df = add_stock_price(stock)\n",
    "    df['future'] = df[target].shift(-future_pred) # Shifting the Price Variable, (From the most recent) \n",
    "    df['target'] = list(map(classify,df[target],df['future'])) # Classifying Current Price with Future Price (Lagged Vs. Current)\n",
    "    return df.copy()\n",
    "\n",
    "def split_data(stock, val_size = .05, future_pred = 6):\n",
    "    df = shift_target(stock, future_pred)\n",
    "    time = sorted(df.index.values) # Sorting the Date values. \n",
    "    last5 = time[-int(val_size *len(time))] # Last 5% of the data Used for Validation\n",
    "    val_df = df[df.index>=last5] # Validation Data\n",
    "    df = df[df.index<=last5] # Training Data\n",
    "    return df, val_df"
   ]
  },
  {
   "cell_type": "markdown",
   "metadata": {},
   "source": [
    "# Normalizing data. \n",
    "- normalize the data\n",
    "- create the sequences we want to use to predict on\n",
    "- balance the dataset "
   ]
  },
  {
   "cell_type": "code",
   "execution_count": 13,
   "metadata": {},
   "outputs": [],
   "source": [
    "def prep_df(df, seq_len = 30, target = 'target'):\n",
    "    \"\"\"Prepare the dataframe for the LSTM model, seq_length is the number of days we will use to predict the next days specified with future_pred\"\"\"\n",
    "    df = df.drop(['future', 'Volume'],axis=1)\n",
    "    \n",
    "    for col in df.columns:\n",
    "        if col != \"target\":\n",
    "            df[col] = df[col].pct_change() # gets the percent change \n",
    "            df.dropna(inplace=True)\n",
    "            df[col] = preprocessing.scale(df[col].values) # Scaling the data. \n",
    "    df.dropna(inplace=True)\n",
    "\n",
    "    seq_data = []\n",
    "    prev_days = deque(maxlen = seq_len) # appends all the data to the empty list, as it gets new items it deletes the old items \n",
    "\n",
    "    for i in df.values:\n",
    "        prev_days.append([n for n in i[:-1]]) # each of the columns up to the last column (target)\n",
    "        if len(prev_days) == seq_len:\n",
    "            seq_data.append([np.array(prev_days), i[-1]])\n",
    "    \n",
    "    # Randomizing the list order of seq_data, so that the model does not get biased towards the first few days of the data.\n",
    "    np.random.shuffle(seq_data)\n",
    "\n",
    "    # balance the data \n",
    "    buys = []\n",
    "    sells = []\n",
    "    for seq, target in seq_data:\n",
    "        if target== 0:\n",
    "            sells.append([seq,target])\n",
    "        elif target ==1:\n",
    "            buys.append([seq, target])\n",
    "\n",
    "    np.random.shuffle(buys)\n",
    "    np.random.shuffle(sells)\n",
    "\n",
    "    lower = min(len(buys), len(sells))\n",
    "    buys = buys[:lower]\n",
    "    sells = sells[:lower]\n",
    "\n",
    "    seq_data = buys+sells\n",
    "    np.random.shuffle(seq_data)\n",
    "\n",
    "    X = []\n",
    "    y = []\n",
    "    \n",
    "    for seq, target in seq_data:\n",
    "        X.append(seq)\n",
    "        y.append(target)\n",
    "    X, y = np.array(X),np.array(y)\n",
    "    print('Train Shape: ', X.shape, 'Target Shape: ', y.shape)\n",
    "    return(X,y)\n",
    "\n",
    "def prep_train_val(stock, seq_len = 30, future_pred = 6, target = 'target', val_size = .05):\n",
    "    df, val_df = split_data(stock, val_size, future_pred)\n",
    "    X_train, y_train = prep_df(df, seq_len)\n",
    "    X_val, y_val = prep_df(val_df, seq_len)\n",
    "    return X_train, y_train, X_val, y_val"
   ]
  },
  {
   "cell_type": "code",
   "execution_count": 14,
   "metadata": {},
   "outputs": [
    {
     "data": {
      "text/html": [
       "<div>\n",
       "<style scoped>\n",
       "    .dataframe tbody tr th:only-of-type {\n",
       "        vertical-align: middle;\n",
       "    }\n",
       "\n",
       "    .dataframe tbody tr th {\n",
       "        vertical-align: top;\n",
       "    }\n",
       "\n",
       "    .dataframe thead th {\n",
       "        text-align: right;\n",
       "    }\n",
       "</style>\n",
       "<table border=\"1\" class=\"dataframe\">\n",
       "  <thead>\n",
       "    <tr style=\"text-align: right;\">\n",
       "      <th></th>\n",
       "      <th>Adj Close</th>\n",
       "      <th>Close</th>\n",
       "      <th>High</th>\n",
       "      <th>Low</th>\n",
       "      <th>Open</th>\n",
       "      <th>Volume</th>\n",
       "      <th>future</th>\n",
       "      <th>target</th>\n",
       "    </tr>\n",
       "    <tr>\n",
       "      <th>Date</th>\n",
       "      <th></th>\n",
       "      <th></th>\n",
       "      <th></th>\n",
       "      <th></th>\n",
       "      <th></th>\n",
       "      <th></th>\n",
       "      <th></th>\n",
       "      <th></th>\n",
       "    </tr>\n",
       "  </thead>\n",
       "  <tbody>\n",
       "    <tr>\n",
       "      <th>2010-06-02</th>\n",
       "      <td>25.590000</td>\n",
       "      <td>25.590000</td>\n",
       "      <td>25.615000</td>\n",
       "      <td>25.320000</td>\n",
       "      <td>25.485001</td>\n",
       "      <td>26800.0</td>\n",
       "      <td>25.330000</td>\n",
       "      <td>0</td>\n",
       "    </tr>\n",
       "    <tr>\n",
       "      <th>2010-06-03</th>\n",
       "      <td>25.830000</td>\n",
       "      <td>25.830000</td>\n",
       "      <td>25.915001</td>\n",
       "      <td>25.420000</td>\n",
       "      <td>25.715000</td>\n",
       "      <td>66800.0</td>\n",
       "      <td>25.875000</td>\n",
       "      <td>1</td>\n",
       "    </tr>\n",
       "    <tr>\n",
       "      <th>2010-06-04</th>\n",
       "      <td>24.700001</td>\n",
       "      <td>24.700001</td>\n",
       "      <td>25.245001</td>\n",
       "      <td>24.670000</td>\n",
       "      <td>25.245001</td>\n",
       "      <td>12000.0</td>\n",
       "      <td>25.559999</td>\n",
       "      <td>1</td>\n",
       "    </tr>\n",
       "    <tr>\n",
       "      <th>2010-06-07</th>\n",
       "      <td>24.795000</td>\n",
       "      <td>24.795000</td>\n",
       "      <td>24.985001</td>\n",
       "      <td>24.565001</td>\n",
       "      <td>24.799999</td>\n",
       "      <td>29000.0</td>\n",
       "      <td>25.639999</td>\n",
       "      <td>1</td>\n",
       "    </tr>\n",
       "    <tr>\n",
       "      <th>2010-06-08</th>\n",
       "      <td>24.690001</td>\n",
       "      <td>24.690001</td>\n",
       "      <td>24.850000</td>\n",
       "      <td>24.594999</td>\n",
       "      <td>24.695000</td>\n",
       "      <td>65400.0</td>\n",
       "      <td>26.160000</td>\n",
       "      <td>1</td>\n",
       "    </tr>\n",
       "  </tbody>\n",
       "</table>\n",
       "</div>"
      ],
      "text/plain": [
       "            Adj Close      Close       High        Low       Open   Volume  \\\n",
       "Date                                                                         \n",
       "2010-06-02  25.590000  25.590000  25.615000  25.320000  25.485001  26800.0   \n",
       "2010-06-03  25.830000  25.830000  25.915001  25.420000  25.715000  66800.0   \n",
       "2010-06-04  24.700001  24.700001  25.245001  24.670000  25.245001  12000.0   \n",
       "2010-06-07  24.795000  24.795000  24.985001  24.565001  24.799999  29000.0   \n",
       "2010-06-08  24.690001  24.690001  24.850000  24.594999  24.695000  65400.0   \n",
       "\n",
       "               future  target  \n",
       "Date                           \n",
       "2010-06-02  25.330000       0  \n",
       "2010-06-03  25.875000       1  \n",
       "2010-06-04  25.559999       1  \n",
       "2010-06-07  25.639999       1  \n",
       "2010-06-08  26.160000       1  "
      ]
     },
     "metadata": {},
     "output_type": "display_data"
    },
    {
     "data": {
      "text/html": [
       "<div>\n",
       "<style scoped>\n",
       "    .dataframe tbody tr th:only-of-type {\n",
       "        vertical-align: middle;\n",
       "    }\n",
       "\n",
       "    .dataframe tbody tr th {\n",
       "        vertical-align: top;\n",
       "    }\n",
       "\n",
       "    .dataframe thead th {\n",
       "        text-align: right;\n",
       "    }\n",
       "</style>\n",
       "<table border=\"1\" class=\"dataframe\">\n",
       "  <thead>\n",
       "    <tr style=\"text-align: right;\">\n",
       "      <th></th>\n",
       "      <th>Adj Close</th>\n",
       "      <th>Close</th>\n",
       "      <th>High</th>\n",
       "      <th>Low</th>\n",
       "      <th>Open</th>\n",
       "      <th>Volume</th>\n",
       "      <th>future</th>\n",
       "      <th>target</th>\n",
       "    </tr>\n",
       "    <tr>\n",
       "      <th>Date</th>\n",
       "      <th></th>\n",
       "      <th></th>\n",
       "      <th></th>\n",
       "      <th></th>\n",
       "      <th></th>\n",
       "      <th></th>\n",
       "      <th></th>\n",
       "      <th></th>\n",
       "    </tr>\n",
       "  </thead>\n",
       "  <tbody>\n",
       "    <tr>\n",
       "      <th>2022-08-08</th>\n",
       "      <td>30.160000</td>\n",
       "      <td>30.160000</td>\n",
       "      <td>30.250000</td>\n",
       "      <td>29.490000</td>\n",
       "      <td>29.520000</td>\n",
       "      <td>208400.0</td>\n",
       "      <td>NaN</td>\n",
       "      <td>0</td>\n",
       "    </tr>\n",
       "    <tr>\n",
       "      <th>2022-08-09</th>\n",
       "      <td>30.129999</td>\n",
       "      <td>30.129999</td>\n",
       "      <td>30.740000</td>\n",
       "      <td>29.870001</td>\n",
       "      <td>30.420000</td>\n",
       "      <td>167400.0</td>\n",
       "      <td>NaN</td>\n",
       "      <td>0</td>\n",
       "    </tr>\n",
       "    <tr>\n",
       "      <th>2022-08-10</th>\n",
       "      <td>30.320000</td>\n",
       "      <td>30.320000</td>\n",
       "      <td>30.639999</td>\n",
       "      <td>29.280001</td>\n",
       "      <td>30.010000</td>\n",
       "      <td>376800.0</td>\n",
       "      <td>NaN</td>\n",
       "      <td>0</td>\n",
       "    </tr>\n",
       "    <tr>\n",
       "      <th>2022-08-11</th>\n",
       "      <td>31.070000</td>\n",
       "      <td>31.070000</td>\n",
       "      <td>31.309999</td>\n",
       "      <td>30.559999</td>\n",
       "      <td>30.860001</td>\n",
       "      <td>333800.0</td>\n",
       "      <td>NaN</td>\n",
       "      <td>0</td>\n",
       "    </tr>\n",
       "    <tr>\n",
       "      <th>2022-08-12</th>\n",
       "      <td>30.660000</td>\n",
       "      <td>30.660000</td>\n",
       "      <td>30.799999</td>\n",
       "      <td>30.309999</td>\n",
       "      <td>30.719999</td>\n",
       "      <td>223400.0</td>\n",
       "      <td>NaN</td>\n",
       "      <td>0</td>\n",
       "    </tr>\n",
       "  </tbody>\n",
       "</table>\n",
       "</div>"
      ],
      "text/plain": [
       "            Adj Close      Close       High        Low       Open    Volume  \\\n",
       "Date                                                                          \n",
       "2022-08-08  30.160000  30.160000  30.250000  29.490000  29.520000  208400.0   \n",
       "2022-08-09  30.129999  30.129999  30.740000  29.870001  30.420000  167400.0   \n",
       "2022-08-10  30.320000  30.320000  30.639999  29.280001  30.010000  376800.0   \n",
       "2022-08-11  31.070000  31.070000  31.309999  30.559999  30.860001  333800.0   \n",
       "2022-08-12  30.660000  30.660000  30.799999  30.309999  30.719999  223400.0   \n",
       "\n",
       "            future  target  \n",
       "Date                        \n",
       "2022-08-08     NaN       0  \n",
       "2022-08-09     NaN       0  \n",
       "2022-08-10     NaN       0  \n",
       "2022-08-11     NaN       0  \n",
       "2022-08-12     NaN       0  "
      ]
     },
     "metadata": {},
     "output_type": "display_data"
    },
    {
     "name": "stdout",
     "output_type": "stream",
     "text": [
      "Training df: 2910\n",
      "Validation df: 153\n",
      "\n",
      "Actual Data Prep\n",
      "\n",
      "Train Shape:  (2684, 30, 5) Target Shape:  (2684,)\n",
      "Train Shape:  (116, 30, 5) Target Shape:  (116,)\n",
      "train data: 2684 validation: 116\n"
     ]
    }
   ],
   "source": [
    "# Shift Data and show dataframe\n",
    "from IPython.display import display\n",
    "data_df = shift_target('bno', 5)\n",
    "display(data_df.head(), data_df.tail())\n",
    "\n",
    "# Splitn data and Print Length of each \n",
    "train_df, val_df = split_data('bno')\n",
    "print(f'Training df: {len(train_df)}')\n",
    "print(f'Validation df: {len(val_df)}')\n",
    "\n",
    "# Note that the Predictors are an array of arrays of arrays, where each array is a sequence of the previous days.\n",
    "print('\\nActual Data Prep\\n')\n",
    "X_train, y_train, X_val, y_val = prep_train_val('bno', seq_len = 30, future_pred = 6, target = 'target', val_size = .05)\n",
    "print(f'train data: {len(X_train)} validation: {len(X_val)}')\n"
   ]
  },
  {
   "cell_type": "markdown",
   "metadata": {},
   "source": [
    "# Creating the model "
   ]
  },
  {
   "cell_type": "code",
   "execution_count": 36,
   "metadata": {},
   "outputs": [],
   "source": [
    "import datetime as dt\n",
    "from venv import create \n",
    "import tensorflow as tf \n",
    "from tensorflow.keras.models import Sequential \n",
    "from tensorflow.keras.layers import Dense,Dropout,LSTM,BatchNormalization\n",
    "from tensorflow.compat.v1.keras.layers import CuDNNLSTM\n",
    "from tensorflow.keras.callbacks import TensorBoard, ModelCheckpoint\n",
    "from sklearn.metrics import classification_report,confusion_matrix\n",
    "import os\n",
    "\n",
    "os.environ['TF_CPP_MIN_LOG_LEVEL'] = '3'\n",
    "\n",
    "def create_folder(stock, seq_len, future_pred):\n",
    "# Save the data to csv in their own folder with a date time stammp \n",
    "    outname = f'{stock}-stock-{seq_len}-seq-{future_pred}=pred-{dt.time()}'\n",
    "    outdir = f'logs/'\n",
    "    if not os.path.exists(outdir):\n",
    "        os.mkdir(outdir)\n",
    "    fullname = os.path.join(outdir, outname)\n",
    "    return fullname\n",
    "\n",
    "def rnn_predictor(stock, seq_len = 28, future_pred = 6,  val_size = .10 , epoch = 10, batch_size = 64):\n",
    "    \"\"\" \n",
    "    1. Create a RNN Model given a stock that is in the data loaded. \n",
    "     - use seq length to specify how many days are used to make the next number of predictions specified with future_pred\n",
    "     - valiadtion size is the percentage of the data used for validation \n",
    "     - epoch is the number of epochs used for training\n",
    "     - batch size is the number of data points used for each epoch\n",
    "    \"\"\"\n",
    "    # Data Preperation \n",
    "    train_x, train_y, val_x, val_y = prep_train_val(stock, seq_len, future_pred, val_size)\n",
    "\n",
    "    # Tensorflow Model \n",
    "    model = Sequential()\n",
    "    model.add(tf.keras.layers.LSTM(128,input_shape=(train_x.shape[1:]), return_sequences=False))\n",
    "    model.add(Dropout(0.2))\n",
    "    model.add(BatchNormalization())\n",
    "\n",
    "    model = Sequential()\n",
    "    model.add(tf.keras.layers.LSTM(128,input_shape=(train_x.shape[1:]), return_sequences=False))\n",
    "    model.add(Dropout(0.1))\n",
    "    model.add(BatchNormalization())\n",
    "\n",
    "    model = Sequential()\n",
    "    model.add(tf.keras.layers.LSTM(128,input_shape=(train_x.shape[1:])))\n",
    "    model.add(Dropout(0.2))\n",
    "    model.add(BatchNormalization())\n",
    "\n",
    "    model.add(Dense(32, activation='relu'))\n",
    "    model.add(Dropout(0.2))\n",
    "\n",
    "    model.add(Dense(2, activation='softmax'))\n",
    "\n",
    "    opt = tf.keras.optimizers.Adam(learning_rate=0.001, decay=1e-6)\n",
    "    model.compile(loss= 'sparse_categorical_crossentropy',optimizer= opt, metrics = ['accuracy'])\n",
    "\n",
    "    # callbacks \n",
    "    tensorboard = TensorBoard(log_dir=create_folder(stock, seq_len, future_pred))\n",
    "    filepath = \"RNN_FINAL-{epoch:02d}-{val_accuracy:.3f}\"\n",
    "    checkpoint = ModelCheckpoint('models/{}.h5'.format(filepath, monitor='val_accuracy', save_best_only= True, mode= 'max'))\n",
    "\n",
    "    history = model.fit(\n",
    "        train_x,train_y, \n",
    "        batch_size= batch_size,\n",
    "        epochs = epoch,\n",
    "        validation_data= (val_x, val_y),\n",
    "        callbacks=[tensorboard,checkpoint]\n",
    "        )\n",
    "    \n",
    "    \n",
    "    predictions = np.argmax(model.predict(val_x), axis=1)\n",
    "    print(classification_report(val_y,predictions))\n",
    "    return history, predictions\n"
   ]
  },
  {
   "cell_type": "code",
   "execution_count": 37,
   "metadata": {},
   "outputs": [
    {
     "name": "stdout",
     "output_type": "stream",
     "text": [
      "['AAPL', 'BNO', 'CORN', 'FDN', 'GDX', 'IBB', 'IGV', 'ITB', 'JETS', 'LQD', 'MOO', 'PBW', 'PHO', 'SMH', 'SPY', 'TAN', 'TLT', 'UUP', 'WEAT', 'XLB', 'XLC', 'XLE', 'XLF', 'XLI', 'XLK', 'XLP', 'XLRE', 'XLU', 'XLV', 'XLY', 'XME', 'XRT']\n"
     ]
    }
   ],
   "source": [
    "print(STOCKS)"
   ]
  },
  {
   "cell_type": "code",
   "execution_count": 39,
   "metadata": {},
   "outputs": [
    {
     "name": "stdout",
     "output_type": "stream",
     "text": [
      "Stock:  SPY\n",
      "Train Shape:  (5634, 10, 5) Target Shape:  (5634,)\n",
      "Train Shape:  (294, 10, 5) Target Shape:  (294,)\n"
     ]
    },
    {
     "name": "stderr",
     "output_type": "stream",
     "text": [
      "2022-08-16 02:15:03.113753: I tensorflow/core/profiler/lib/profiler_session.cc:126] Profiler session initializing.\n",
      "2022-08-16 02:15:03.113773: I tensorflow/core/profiler/lib/profiler_session.cc:141] Profiler session started.\n",
      "2022-08-16 02:15:03.113839: I tensorflow/core/profiler/lib/profiler_session.cc:159] Profiler session tear down.\n"
     ]
    },
    {
     "name": "stdout",
     "output_type": "stream",
     "text": [
      "Epoch 1/13\n"
     ]
    },
    {
     "name": "stderr",
     "output_type": "stream",
     "text": [
      "2022-08-16 02:15:03.841235: I tensorflow/core/grappler/optimizers/custom_graph_optimizer_registry.cc:112] Plugin optimizer for device_type GPU is enabled.\n",
      "2022-08-16 02:15:04.102308: I tensorflow/core/grappler/optimizers/custom_graph_optimizer_registry.cc:112] Plugin optimizer for device_type GPU is enabled.\n",
      "2022-08-16 02:15:05.184439: I tensorflow/core/grappler/optimizers/custom_graph_optimizer_registry.cc:112] Plugin optimizer for device_type GPU is enabled.\n"
     ]
    },
    {
     "name": "stdout",
     "output_type": "stream",
     "text": [
      " 2/45 [>.............................] - ETA: 6s - loss: 0.7871 - accuracy: 0.4961  "
     ]
    },
    {
     "name": "stderr",
     "output_type": "stream",
     "text": [
      "2022-08-16 02:15:05.781559: I tensorflow/core/profiler/lib/profiler_session.cc:126] Profiler session initializing.\n",
      "2022-08-16 02:15:05.781576: I tensorflow/core/profiler/lib/profiler_session.cc:141] Profiler session started.\n",
      "2022-08-16 02:15:05.962341: I tensorflow/core/profiler/lib/profiler_session.cc:66] Profiler session collecting data.\n",
      "2022-08-16 02:15:05.963405: I tensorflow/core/profiler/lib/profiler_session.cc:159] Profiler session tear down.\n",
      "2022-08-16 02:15:05.964236: I tensorflow/core/profiler/rpc/client/save_profile.cc:137] Creating directory: logs/SPY-stock-10-seq-3=pred-00:00:00/train/plugins/profile/2022_08_16_02_15_05\n",
      "2022-08-16 02:15:05.965250: I tensorflow/core/profiler/rpc/client/save_profile.cc:143] Dumped gzipped tool data for trace.json.gz to logs/SPY-stock-10-seq-3=pred-00:00:00/train/plugins/profile/2022_08_16_02_15_05/Jerald2020.local.trace.json.gz\n",
      "2022-08-16 02:15:05.966450: I tensorflow/core/profiler/rpc/client/save_profile.cc:137] Creating directory: logs/SPY-stock-10-seq-3=pred-00:00:00/train/plugins/profile/2022_08_16_02_15_05\n",
      "2022-08-16 02:15:05.966736: I tensorflow/core/profiler/rpc/client/save_profile.cc:143] Dumped gzipped tool data for memory_profile.json.gz to logs/SPY-stock-10-seq-3=pred-00:00:00/train/plugins/profile/2022_08_16_02_15_05/Jerald2020.local.memory_profile.json.gz\n",
      "2022-08-16 02:15:05.967549: I tensorflow/core/profiler/rpc/client/capture_profile.cc:251] Creating directory: logs/SPY-stock-10-seq-3=pred-00:00:00/train/plugins/profile/2022_08_16_02_15_05Dumped tool data for xplane.pb to logs/SPY-stock-10-seq-3=pred-00:00:00/train/plugins/profile/2022_08_16_02_15_05/Jerald2020.local.xplane.pb\n",
      "Dumped tool data for overview_page.pb to logs/SPY-stock-10-seq-3=pred-00:00:00/train/plugins/profile/2022_08_16_02_15_05/Jerald2020.local.overview_page.pb\n",
      "Dumped tool data for input_pipeline.pb to logs/SPY-stock-10-seq-3=pred-00:00:00/train/plugins/profile/2022_08_16_02_15_05/Jerald2020.local.input_pipeline.pb\n",
      "Dumped tool data for tensorflow_stats.pb to logs/SPY-stock-10-seq-3=pred-00:00:00/train/plugins/profile/2022_08_16_02_15_05/Jerald2020.local.tensorflow_stats.pb\n",
      "Dumped tool data for kernel_stats.pb to logs/SPY-stock-10-seq-3=pred-00:00:00/train/plugins/profile/2022_08_16_02_15_05/Jerald2020.local.kernel_stats.pb\n",
      "\n"
     ]
    },
    {
     "name": "stdout",
     "output_type": "stream",
     "text": [
      "45/45 [==============================] - ETA: 0s - loss: 0.7776 - accuracy: 0.4943"
     ]
    },
    {
     "name": "stderr",
     "output_type": "stream",
     "text": [
      "2022-08-16 02:15:10.193780: I tensorflow/core/grappler/optimizers/custom_graph_optimizer_registry.cc:112] Plugin optimizer for device_type GPU is enabled.\n",
      "2022-08-16 02:15:10.336717: I tensorflow/core/grappler/optimizers/custom_graph_optimizer_registry.cc:112] Plugin optimizer for device_type GPU is enabled.\n"
     ]
    },
    {
     "name": "stdout",
     "output_type": "stream",
     "text": [
      "45/45 [==============================] - 8s 116ms/step - loss: 0.7776 - accuracy: 0.4943 - val_loss: 0.6934 - val_accuracy: 0.5000\n",
      "Epoch 2/13\n",
      "45/45 [==============================] - 2s 45ms/step - loss: 0.7239 - accuracy: 0.4970 - val_loss: 0.6933 - val_accuracy: 0.4898\n",
      "Epoch 3/13\n",
      "45/45 [==============================] - 2s 45ms/step - loss: 0.7222 - accuracy: 0.5018 - val_loss: 0.6930 - val_accuracy: 0.5000\n",
      "Epoch 4/13\n",
      "45/45 [==============================] - 2s 45ms/step - loss: 0.7145 - accuracy: 0.5023 - val_loss: 0.6940 - val_accuracy: 0.5000\n",
      "Epoch 5/13\n",
      "45/45 [==============================] - 2s 43ms/step - loss: 0.7097 - accuracy: 0.5057 - val_loss: 0.6953 - val_accuracy: 0.5102\n",
      "Epoch 6/13\n",
      "45/45 [==============================] - 2s 48ms/step - loss: 0.7003 - accuracy: 0.5140 - val_loss: 0.6948 - val_accuracy: 0.4966\n",
      "Epoch 7/13\n",
      "45/45 [==============================] - 2s 44ms/step - loss: 0.7002 - accuracy: 0.5211 - val_loss: 0.6939 - val_accuracy: 0.5068\n",
      "Epoch 8/13\n",
      "45/45 [==============================] - 2s 44ms/step - loss: 0.7011 - accuracy: 0.5078 - val_loss: 0.6950 - val_accuracy: 0.4864\n",
      "Epoch 9/13\n",
      "45/45 [==============================] - 2s 44ms/step - loss: 0.6932 - accuracy: 0.5268 - val_loss: 0.6951 - val_accuracy: 0.5102\n",
      "Epoch 10/13\n",
      "45/45 [==============================] - 2s 43ms/step - loss: 0.6939 - accuracy: 0.5245 - val_loss: 0.6940 - val_accuracy: 0.4796\n",
      "Epoch 11/13\n",
      "45/45 [==============================] - 2s 44ms/step - loss: 0.6950 - accuracy: 0.5179 - val_loss: 0.6945 - val_accuracy: 0.5238\n",
      "Epoch 12/13\n",
      "45/45 [==============================] - 2s 44ms/step - loss: 0.6907 - accuracy: 0.5366 - val_loss: 0.6950 - val_accuracy: 0.5408\n",
      "Epoch 13/13\n",
      "45/45 [==============================] - 2s 48ms/step - loss: 0.6926 - accuracy: 0.5234 - val_loss: 0.6978 - val_accuracy: 0.4728\n"
     ]
    },
    {
     "name": "stderr",
     "output_type": "stream",
     "text": [
      "2022-08-16 02:15:35.813866: I tensorflow/core/grappler/optimizers/custom_graph_optimizer_registry.cc:112] Plugin optimizer for device_type GPU is enabled.\n",
      "2022-08-16 02:15:35.877363: I tensorflow/core/grappler/optimizers/custom_graph_optimizer_registry.cc:112] Plugin optimizer for device_type GPU is enabled.\n"
     ]
    },
    {
     "name": "stdout",
     "output_type": "stream",
     "text": [
      "              precision    recall  f1-score   support\n",
      "\n",
      "         0.0       0.45      0.22      0.30       147\n",
      "         1.0       0.48      0.72      0.58       147\n",
      "\n",
      "    accuracy                           0.47       294\n",
      "   macro avg       0.46      0.47      0.44       294\n",
      "weighted avg       0.46      0.47      0.44       294\n",
      "\n",
      "Stock:  TLT\n",
      "Train Shape:  (4566, 10, 5) Target Shape:  (4566,)\n",
      "Train Shape:  (202, 10, 5) Target Shape:  (202,)\n"
     ]
    },
    {
     "name": "stderr",
     "output_type": "stream",
     "text": [
      "2022-08-16 02:15:36.767466: I tensorflow/core/profiler/lib/profiler_session.cc:126] Profiler session initializing.\n",
      "2022-08-16 02:15:36.767492: I tensorflow/core/profiler/lib/profiler_session.cc:141] Profiler session started.\n",
      "2022-08-16 02:15:36.767560: I tensorflow/core/profiler/lib/profiler_session.cc:159] Profiler session tear down.\n"
     ]
    },
    {
     "name": "stdout",
     "output_type": "stream",
     "text": [
      "Epoch 1/13\n"
     ]
    },
    {
     "name": "stderr",
     "output_type": "stream",
     "text": [
      "2022-08-16 02:15:37.461365: I tensorflow/core/grappler/optimizers/custom_graph_optimizer_registry.cc:112] Plugin optimizer for device_type GPU is enabled.\n",
      "2022-08-16 02:15:37.705609: I tensorflow/core/grappler/optimizers/custom_graph_optimizer_registry.cc:112] Plugin optimizer for device_type GPU is enabled.\n",
      "2022-08-16 02:15:38.233897: I tensorflow/core/grappler/optimizers/custom_graph_optimizer_registry.cc:112] Plugin optimizer for device_type GPU is enabled.\n"
     ]
    },
    {
     "name": "stdout",
     "output_type": "stream",
     "text": [
      " 2/36 [>.............................] - ETA: 6s - loss: 0.8036 - accuracy: 0.5352  "
     ]
    },
    {
     "name": "stderr",
     "output_type": "stream",
     "text": [
      "2022-08-16 02:15:38.633684: I tensorflow/core/profiler/lib/profiler_session.cc:126] Profiler session initializing.\n",
      "2022-08-16 02:15:38.633699: I tensorflow/core/profiler/lib/profiler_session.cc:141] Profiler session started.\n"
     ]
    },
    {
     "name": "stdout",
     "output_type": "stream",
     "text": [
      " 4/36 [==>...........................] - ETA: 4s - loss: 0.7957 - accuracy: 0.4980"
     ]
    },
    {
     "name": "stderr",
     "output_type": "stream",
     "text": [
      "2022-08-16 02:15:38.848492: I tensorflow/core/profiler/lib/profiler_session.cc:66] Profiler session collecting data.\n",
      "2022-08-16 02:15:38.849548: I tensorflow/core/profiler/lib/profiler_session.cc:159] Profiler session tear down.\n",
      "2022-08-16 02:15:38.850314: I tensorflow/core/profiler/rpc/client/save_profile.cc:137] Creating directory: logs/TLT-stock-10-seq-3=pred-00:00:00/train/plugins/profile/2022_08_16_02_15_38\n",
      "2022-08-16 02:15:38.851637: I tensorflow/core/profiler/rpc/client/save_profile.cc:143] Dumped gzipped tool data for trace.json.gz to logs/TLT-stock-10-seq-3=pred-00:00:00/train/plugins/profile/2022_08_16_02_15_38/Jerald2020.local.trace.json.gz\n",
      "2022-08-16 02:15:38.852796: I tensorflow/core/profiler/rpc/client/save_profile.cc:137] Creating directory: logs/TLT-stock-10-seq-3=pred-00:00:00/train/plugins/profile/2022_08_16_02_15_38\n",
      "2022-08-16 02:15:38.853082: I tensorflow/core/profiler/rpc/client/save_profile.cc:143] Dumped gzipped tool data for memory_profile.json.gz to logs/TLT-stock-10-seq-3=pred-00:00:00/train/plugins/profile/2022_08_16_02_15_38/Jerald2020.local.memory_profile.json.gz\n",
      "2022-08-16 02:15:38.853848: I tensorflow/core/profiler/rpc/client/capture_profile.cc:251] Creating directory: logs/TLT-stock-10-seq-3=pred-00:00:00/train/plugins/profile/2022_08_16_02_15_38Dumped tool data for xplane.pb to logs/TLT-stock-10-seq-3=pred-00:00:00/train/plugins/profile/2022_08_16_02_15_38/Jerald2020.local.xplane.pb\n",
      "Dumped tool data for overview_page.pb to logs/TLT-stock-10-seq-3=pred-00:00:00/train/plugins/profile/2022_08_16_02_15_38/Jerald2020.local.overview_page.pb\n",
      "Dumped tool data for input_pipeline.pb to logs/TLT-stock-10-seq-3=pred-00:00:00/train/plugins/profile/2022_08_16_02_15_38/Jerald2020.local.input_pipeline.pb\n",
      "Dumped tool data for tensorflow_stats.pb to logs/TLT-stock-10-seq-3=pred-00:00:00/train/plugins/profile/2022_08_16_02_15_38/Jerald2020.local.tensorflow_stats.pb\n",
      "Dumped tool data for kernel_stats.pb to logs/TLT-stock-10-seq-3=pred-00:00:00/train/plugins/profile/2022_08_16_02_15_38/Jerald2020.local.kernel_stats.pb\n",
      "\n"
     ]
    },
    {
     "name": "stdout",
     "output_type": "stream",
     "text": [
      "36/36 [==============================] - ETA: 0s - loss: 0.7693 - accuracy: 0.4998"
     ]
    },
    {
     "name": "stderr",
     "output_type": "stream",
     "text": [
      "2022-08-16 02:15:42.442778: I tensorflow/core/grappler/optimizers/custom_graph_optimizer_registry.cc:112] Plugin optimizer for device_type GPU is enabled.\n",
      "2022-08-16 02:15:42.556437: I tensorflow/core/grappler/optimizers/custom_graph_optimizer_registry.cc:112] Plugin optimizer for device_type GPU is enabled.\n"
     ]
    },
    {
     "name": "stdout",
     "output_type": "stream",
     "text": [
      "36/36 [==============================] - 6s 131ms/step - loss: 0.7693 - accuracy: 0.4998 - val_loss: 0.6942 - val_accuracy: 0.5000\n",
      "Epoch 2/13\n",
      "36/36 [==============================] - 2s 46ms/step - loss: 0.7310 - accuracy: 0.4980 - val_loss: 0.6935 - val_accuracy: 0.5000\n",
      "Epoch 3/13\n",
      "36/36 [==============================] - 2s 45ms/step - loss: 0.7206 - accuracy: 0.4987 - val_loss: 0.6929 - val_accuracy: 0.5000\n",
      "Epoch 4/13\n",
      "36/36 [==============================] - 2s 44ms/step - loss: 0.7128 - accuracy: 0.5061 - val_loss: 0.6930 - val_accuracy: 0.5000\n",
      "Epoch 5/13\n",
      "36/36 [==============================] - 2s 45ms/step - loss: 0.7051 - accuracy: 0.5020 - val_loss: 0.6942 - val_accuracy: 0.5000\n",
      "Epoch 6/13\n",
      "36/36 [==============================] - 2s 45ms/step - loss: 0.6968 - accuracy: 0.5212 - val_loss: 0.6931 - val_accuracy: 0.5000\n",
      "Epoch 7/13\n",
      "36/36 [==============================] - 2s 43ms/step - loss: 0.6976 - accuracy: 0.5131 - val_loss: 0.6936 - val_accuracy: 0.5000\n",
      "Epoch 8/13\n",
      "36/36 [==============================] - 2s 43ms/step - loss: 0.6999 - accuracy: 0.5241 - val_loss: 0.6949 - val_accuracy: 0.4950\n",
      "Epoch 9/13\n",
      "36/36 [==============================] - 2s 48ms/step - loss: 0.6945 - accuracy: 0.5252 - val_loss: 0.6917 - val_accuracy: 0.5000\n",
      "Epoch 10/13\n",
      "36/36 [==============================] - 2s 44ms/step - loss: 0.6932 - accuracy: 0.5304 - val_loss: 0.6919 - val_accuracy: 0.5149\n",
      "Epoch 11/13\n",
      "36/36 [==============================] - 2s 43ms/step - loss: 0.6945 - accuracy: 0.5197 - val_loss: 0.6915 - val_accuracy: 0.5099\n",
      "Epoch 12/13\n",
      "36/36 [==============================] - 2s 44ms/step - loss: 0.6925 - accuracy: 0.5289 - val_loss: 0.6919 - val_accuracy: 0.5248\n",
      "Epoch 13/13\n",
      "36/36 [==============================] - 2s 44ms/step - loss: 0.6935 - accuracy: 0.5191 - val_loss: 0.6911 - val_accuracy: 0.5099\n"
     ]
    },
    {
     "name": "stderr",
     "output_type": "stream",
     "text": [
      "2022-08-16 02:16:03.027199: I tensorflow/core/grappler/optimizers/custom_graph_optimizer_registry.cc:112] Plugin optimizer for device_type GPU is enabled.\n",
      "2022-08-16 02:16:03.092476: I tensorflow/core/grappler/optimizers/custom_graph_optimizer_registry.cc:112] Plugin optimizer for device_type GPU is enabled.\n"
     ]
    },
    {
     "name": "stdout",
     "output_type": "stream",
     "text": [
      "              precision    recall  f1-score   support\n",
      "\n",
      "         0.0       0.55      0.11      0.18       101\n",
      "         1.0       0.51      0.91      0.65       101\n",
      "\n",
      "    accuracy                           0.51       202\n",
      "   macro avg       0.53      0.51      0.42       202\n",
      "weighted avg       0.53      0.51      0.42       202\n",
      "\n",
      "Stock:  XME\n",
      "Train Shape:  (3764, 10, 5) Target Shape:  (3764,)\n",
      "Train Shape:  (170, 10, 5) Target Shape:  (170,)\n"
     ]
    },
    {
     "name": "stderr",
     "output_type": "stream",
     "text": [
      "2022-08-16 02:16:03.972541: I tensorflow/core/profiler/lib/profiler_session.cc:126] Profiler session initializing.\n",
      "2022-08-16 02:16:03.972558: I tensorflow/core/profiler/lib/profiler_session.cc:141] Profiler session started.\n",
      "2022-08-16 02:16:03.972624: I tensorflow/core/profiler/lib/profiler_session.cc:159] Profiler session tear down.\n"
     ]
    },
    {
     "name": "stdout",
     "output_type": "stream",
     "text": [
      "Epoch 1/13\n"
     ]
    },
    {
     "name": "stderr",
     "output_type": "stream",
     "text": [
      "2022-08-16 02:16:04.661405: I tensorflow/core/grappler/optimizers/custom_graph_optimizer_registry.cc:112] Plugin optimizer for device_type GPU is enabled.\n",
      "2022-08-16 02:16:04.894745: I tensorflow/core/grappler/optimizers/custom_graph_optimizer_registry.cc:112] Plugin optimizer for device_type GPU is enabled.\n",
      "2022-08-16 02:16:05.427729: I tensorflow/core/grappler/optimizers/custom_graph_optimizer_registry.cc:112] Plugin optimizer for device_type GPU is enabled.\n"
     ]
    },
    {
     "name": "stdout",
     "output_type": "stream",
     "text": [
      " 2/30 [=>............................] - ETA: 5s - loss: 0.8496 - accuracy: 0.4688 "
     ]
    },
    {
     "name": "stderr",
     "output_type": "stream",
     "text": [
      "2022-08-16 02:16:05.839401: I tensorflow/core/profiler/lib/profiler_session.cc:126] Profiler session initializing.\n",
      "2022-08-16 02:16:05.839421: I tensorflow/core/profiler/lib/profiler_session.cc:141] Profiler session started.\n"
     ]
    },
    {
     "name": "stdout",
     "output_type": "stream",
     "text": [
      " 3/30 [==>...........................] - ETA: 5s - loss: 0.8346 - accuracy: 0.4688"
     ]
    },
    {
     "name": "stderr",
     "output_type": "stream",
     "text": [
      "2022-08-16 02:16:06.065375: I tensorflow/core/profiler/lib/profiler_session.cc:66] Profiler session collecting data.\n",
      "2022-08-16 02:16:06.066453: I tensorflow/core/profiler/lib/profiler_session.cc:159] Profiler session tear down.\n",
      "2022-08-16 02:16:06.067201: I tensorflow/core/profiler/rpc/client/save_profile.cc:137] Creating directory: logs/XME-stock-10-seq-3=pred-00:00:00/train/plugins/profile/2022_08_16_02_16_06\n",
      "2022-08-16 02:16:06.068111: I tensorflow/core/profiler/rpc/client/save_profile.cc:143] Dumped gzipped tool data for trace.json.gz to logs/XME-stock-10-seq-3=pred-00:00:00/train/plugins/profile/2022_08_16_02_16_06/Jerald2020.local.trace.json.gz\n",
      "2022-08-16 02:16:06.069255: I tensorflow/core/profiler/rpc/client/save_profile.cc:137] Creating directory: logs/XME-stock-10-seq-3=pred-00:00:00/train/plugins/profile/2022_08_16_02_16_06\n",
      "2022-08-16 02:16:06.069493: I tensorflow/core/profiler/rpc/client/save_profile.cc:143] Dumped gzipped tool data for memory_profile.json.gz to logs/XME-stock-10-seq-3=pred-00:00:00/train/plugins/profile/2022_08_16_02_16_06/Jerald2020.local.memory_profile.json.gz\n",
      "2022-08-16 02:16:06.070195: I tensorflow/core/profiler/rpc/client/capture_profile.cc:251] Creating directory: logs/XME-stock-10-seq-3=pred-00:00:00/train/plugins/profile/2022_08_16_02_16_06Dumped tool data for xplane.pb to logs/XME-stock-10-seq-3=pred-00:00:00/train/plugins/profile/2022_08_16_02_16_06/Jerald2020.local.xplane.pb\n",
      "Dumped tool data for overview_page.pb to logs/XME-stock-10-seq-3=pred-00:00:00/train/plugins/profile/2022_08_16_02_16_06/Jerald2020.local.overview_page.pb\n",
      "Dumped tool data for input_pipeline.pb to logs/XME-stock-10-seq-3=pred-00:00:00/train/plugins/profile/2022_08_16_02_16_06/Jerald2020.local.input_pipeline.pb\n",
      "Dumped tool data for tensorflow_stats.pb to logs/XME-stock-10-seq-3=pred-00:00:00/train/plugins/profile/2022_08_16_02_16_06/Jerald2020.local.tensorflow_stats.pb\n",
      "Dumped tool data for kernel_stats.pb to logs/XME-stock-10-seq-3=pred-00:00:00/train/plugins/profile/2022_08_16_02_16_06/Jerald2020.local.kernel_stats.pb\n",
      "\n"
     ]
    },
    {
     "name": "stdout",
     "output_type": "stream",
     "text": [
      "30/30 [==============================] - ETA: 0s - loss: 0.7696 - accuracy: 0.5019"
     ]
    },
    {
     "name": "stderr",
     "output_type": "stream",
     "text": [
      "2022-08-16 02:16:09.226177: I tensorflow/core/grappler/optimizers/custom_graph_optimizer_registry.cc:112] Plugin optimizer for device_type GPU is enabled.\n",
      "2022-08-16 02:16:09.323844: I tensorflow/core/grappler/optimizers/custom_graph_optimizer_registry.cc:112] Plugin optimizer for device_type GPU is enabled.\n"
     ]
    },
    {
     "name": "stdout",
     "output_type": "stream",
     "text": [
      "30/30 [==============================] - 6s 139ms/step - loss: 0.7696 - accuracy: 0.5019 - val_loss: 0.6929 - val_accuracy: 0.5059\n",
      "Epoch 2/13\n",
      "30/30 [==============================] - 2s 58ms/step - loss: 0.7384 - accuracy: 0.5080 - val_loss: 0.6936 - val_accuracy: 0.5000\n",
      "Epoch 3/13\n",
      "30/30 [==============================] - 1s 44ms/step - loss: 0.7135 - accuracy: 0.5191 - val_loss: 0.6927 - val_accuracy: 0.5000\n",
      "Epoch 4/13\n",
      "30/30 [==============================] - 1s 45ms/step - loss: 0.7199 - accuracy: 0.5000 - val_loss: 0.6927 - val_accuracy: 0.5118\n",
      "Epoch 5/13\n",
      "30/30 [==============================] - 1s 44ms/step - loss: 0.7094 - accuracy: 0.5170 - val_loss: 0.6947 - val_accuracy: 0.5000\n",
      "Epoch 6/13\n",
      "30/30 [==============================] - 1s 44ms/step - loss: 0.7078 - accuracy: 0.5072 - val_loss: 0.6933 - val_accuracy: 0.5059\n",
      "Epoch 7/13\n",
      "30/30 [==============================] - 1s 44ms/step - loss: 0.6976 - accuracy: 0.5290 - val_loss: 0.6944 - val_accuracy: 0.5059\n",
      "Epoch 8/13\n",
      "30/30 [==============================] - 1s 44ms/step - loss: 0.7053 - accuracy: 0.5191 - val_loss: 0.6936 - val_accuracy: 0.5059\n",
      "Epoch 9/13\n",
      "30/30 [==============================] - 2s 51ms/step - loss: 0.6962 - accuracy: 0.5279 - val_loss: 0.6926 - val_accuracy: 0.5118\n",
      "Epoch 10/13\n",
      "30/30 [==============================] - 1s 43ms/step - loss: 0.6938 - accuracy: 0.5327 - val_loss: 0.6922 - val_accuracy: 0.4941\n",
      "Epoch 11/13\n",
      "30/30 [==============================] - 1s 44ms/step - loss: 0.6961 - accuracy: 0.5213 - val_loss: 0.6905 - val_accuracy: 0.5118\n",
      "Epoch 12/13\n",
      "30/30 [==============================] - 1s 44ms/step - loss: 0.6983 - accuracy: 0.5165 - val_loss: 0.6931 - val_accuracy: 0.5176\n",
      "Epoch 13/13\n",
      "30/30 [==============================] - 1s 45ms/step - loss: 0.6901 - accuracy: 0.5375 - val_loss: 0.6888 - val_accuracy: 0.5294\n"
     ]
    },
    {
     "name": "stderr",
     "output_type": "stream",
     "text": [
      "2022-08-16 02:16:27.056195: I tensorflow/core/grappler/optimizers/custom_graph_optimizer_registry.cc:112] Plugin optimizer for device_type GPU is enabled.\n",
      "2022-08-16 02:16:27.118002: I tensorflow/core/grappler/optimizers/custom_graph_optimizer_registry.cc:112] Plugin optimizer for device_type GPU is enabled.\n"
     ]
    },
    {
     "name": "stdout",
     "output_type": "stream",
     "text": [
      "              precision    recall  f1-score   support\n",
      "\n",
      "         0.0       0.56      0.26      0.35        85\n",
      "         1.0       0.52      0.80      0.63        85\n",
      "\n",
      "    accuracy                           0.53       170\n",
      "   macro avg       0.54      0.53      0.49       170\n",
      "weighted avg       0.54      0.53      0.49       170\n",
      "\n",
      "Stock:  AAPL\n",
      "Train Shape:  (6080, 10, 5) Target Shape:  (6080,)\n",
      "Train Shape:  (308, 10, 5) Target Shape:  (308,)\n"
     ]
    },
    {
     "name": "stderr",
     "output_type": "stream",
     "text": [
      "2022-08-16 02:16:28.009843: I tensorflow/core/profiler/lib/profiler_session.cc:126] Profiler session initializing.\n",
      "2022-08-16 02:16:28.009864: I tensorflow/core/profiler/lib/profiler_session.cc:141] Profiler session started.\n",
      "2022-08-16 02:16:28.009928: I tensorflow/core/profiler/lib/profiler_session.cc:159] Profiler session tear down.\n"
     ]
    },
    {
     "name": "stdout",
     "output_type": "stream",
     "text": [
      "Epoch 1/13\n"
     ]
    },
    {
     "name": "stderr",
     "output_type": "stream",
     "text": [
      "2022-08-16 02:16:28.710324: I tensorflow/core/grappler/optimizers/custom_graph_optimizer_registry.cc:112] Plugin optimizer for device_type GPU is enabled.\n",
      "2022-08-16 02:16:28.939000: I tensorflow/core/grappler/optimizers/custom_graph_optimizer_registry.cc:112] Plugin optimizer for device_type GPU is enabled.\n",
      "2022-08-16 02:16:29.460591: I tensorflow/core/grappler/optimizers/custom_graph_optimizer_registry.cc:112] Plugin optimizer for device_type GPU is enabled.\n"
     ]
    },
    {
     "name": "stdout",
     "output_type": "stream",
     "text": [
      " 2/48 [>.............................] - ETA: 7s - loss: 0.7818 - accuracy: 0.5156  "
     ]
    },
    {
     "name": "stderr",
     "output_type": "stream",
     "text": [
      "2022-08-16 02:16:29.857127: I tensorflow/core/profiler/lib/profiler_session.cc:126] Profiler session initializing.\n",
      "2022-08-16 02:16:29.857145: I tensorflow/core/profiler/lib/profiler_session.cc:141] Profiler session started.\n"
     ]
    },
    {
     "name": "stdout",
     "output_type": "stream",
     "text": [
      " 4/48 [=>............................] - ETA: 6s - loss: 0.8108 - accuracy: 0.5020"
     ]
    },
    {
     "name": "stderr",
     "output_type": "stream",
     "text": [
      "2022-08-16 02:16:30.060143: I tensorflow/core/profiler/lib/profiler_session.cc:66] Profiler session collecting data.\n",
      "2022-08-16 02:16:30.061210: I tensorflow/core/profiler/lib/profiler_session.cc:159] Profiler session tear down.\n",
      "2022-08-16 02:16:30.062009: I tensorflow/core/profiler/rpc/client/save_profile.cc:137] Creating directory: logs/AAPL-stock-10-seq-3=pred-00:00:00/train/plugins/profile/2022_08_16_02_16_30\n",
      "2022-08-16 02:16:30.063014: I tensorflow/core/profiler/rpc/client/save_profile.cc:143] Dumped gzipped tool data for trace.json.gz to logs/AAPL-stock-10-seq-3=pred-00:00:00/train/plugins/profile/2022_08_16_02_16_30/Jerald2020.local.trace.json.gz\n",
      "2022-08-16 02:16:30.064032: I tensorflow/core/profiler/rpc/client/save_profile.cc:137] Creating directory: logs/AAPL-stock-10-seq-3=pred-00:00:00/train/plugins/profile/2022_08_16_02_16_30\n",
      "2022-08-16 02:16:30.064277: I tensorflow/core/profiler/rpc/client/save_profile.cc:143] Dumped gzipped tool data for memory_profile.json.gz to logs/AAPL-stock-10-seq-3=pred-00:00:00/train/plugins/profile/2022_08_16_02_16_30/Jerald2020.local.memory_profile.json.gz\n",
      "2022-08-16 02:16:30.065027: I tensorflow/core/profiler/rpc/client/capture_profile.cc:251] Creating directory: logs/AAPL-stock-10-seq-3=pred-00:00:00/train/plugins/profile/2022_08_16_02_16_30Dumped tool data for xplane.pb to logs/AAPL-stock-10-seq-3=pred-00:00:00/train/plugins/profile/2022_08_16_02_16_30/Jerald2020.local.xplane.pb\n",
      "Dumped tool data for overview_page.pb to logs/AAPL-stock-10-seq-3=pred-00:00:00/train/plugins/profile/2022_08_16_02_16_30/Jerald2020.local.overview_page.pb\n",
      "Dumped tool data for input_pipeline.pb to logs/AAPL-stock-10-seq-3=pred-00:00:00/train/plugins/profile/2022_08_16_02_16_30/Jerald2020.local.input_pipeline.pb\n",
      "Dumped tool data for tensorflow_stats.pb to logs/AAPL-stock-10-seq-3=pred-00:00:00/train/plugins/profile/2022_08_16_02_16_30/Jerald2020.local.tensorflow_stats.pb\n",
      "Dumped tool data for kernel_stats.pb to logs/AAPL-stock-10-seq-3=pred-00:00:00/train/plugins/profile/2022_08_16_02_16_30/Jerald2020.local.kernel_stats.pb\n",
      "\n"
     ]
    },
    {
     "name": "stdout",
     "output_type": "stream",
     "text": [
      "48/48 [==============================] - ETA: 0s - loss: 0.7733 - accuracy: 0.4998"
     ]
    },
    {
     "name": "stderr",
     "output_type": "stream",
     "text": [
      "2022-08-16 02:16:34.286514: I tensorflow/core/grappler/optimizers/custom_graph_optimizer_registry.cc:112] Plugin optimizer for device_type GPU is enabled.\n",
      "2022-08-16 02:16:34.439712: I tensorflow/core/grappler/optimizers/custom_graph_optimizer_registry.cc:112] Plugin optimizer for device_type GPU is enabled.\n"
     ]
    },
    {
     "name": "stdout",
     "output_type": "stream",
     "text": [
      "48/48 [==============================] - 7s 109ms/step - loss: 0.7733 - accuracy: 0.4998 - val_loss: 0.6936 - val_accuracy: 0.5032\n",
      "Epoch 2/13\n",
      "48/48 [==============================] - 2s 46ms/step - loss: 0.7233 - accuracy: 0.5127 - val_loss: 0.6931 - val_accuracy: 0.5000\n",
      "Epoch 3/13\n",
      "48/48 [==============================] - 2s 44ms/step - loss: 0.7106 - accuracy: 0.5199 - val_loss: 0.6943 - val_accuracy: 0.5000\n",
      "Epoch 4/13\n",
      "48/48 [==============================] - 2s 44ms/step - loss: 0.7076 - accuracy: 0.5158 - val_loss: 0.6930 - val_accuracy: 0.5000\n",
      "Epoch 5/13\n",
      "48/48 [==============================] - 2s 43ms/step - loss: 0.7025 - accuracy: 0.5257 - val_loss: 0.6935 - val_accuracy: 0.4903\n",
      "Epoch 6/13\n",
      "48/48 [==============================] - 2s 43ms/step - loss: 0.7005 - accuracy: 0.5214 - val_loss: 0.6950 - val_accuracy: 0.4935\n",
      "Epoch 7/13\n",
      "48/48 [==============================] - 2s 44ms/step - loss: 0.6942 - accuracy: 0.5252 - val_loss: 0.6942 - val_accuracy: 0.4805\n",
      "Epoch 8/13\n",
      "48/48 [==============================] - 2s 43ms/step - loss: 0.6949 - accuracy: 0.5401 - val_loss: 0.6949 - val_accuracy: 0.4838\n",
      "Epoch 9/13\n",
      "48/48 [==============================] - 2s 44ms/step - loss: 0.6928 - accuracy: 0.5327 - val_loss: 0.6941 - val_accuracy: 0.4838\n",
      "Epoch 10/13\n",
      "48/48 [==============================] - 2s 43ms/step - loss: 0.6945 - accuracy: 0.5188 - val_loss: 0.6942 - val_accuracy: 0.4805\n",
      "Epoch 11/13\n",
      "48/48 [==============================] - 2s 45ms/step - loss: 0.6930 - accuracy: 0.5146 - val_loss: 0.6929 - val_accuracy: 0.5162\n",
      "Epoch 12/13\n",
      "48/48 [==============================] - 2s 46ms/step - loss: 0.6896 - accuracy: 0.5316 - val_loss: 0.6982 - val_accuracy: 0.5162\n",
      "Epoch 13/13\n",
      "48/48 [==============================] - 2s 43ms/step - loss: 0.6875 - accuracy: 0.5380 - val_loss: 0.6964 - val_accuracy: 0.5065\n"
     ]
    },
    {
     "name": "stderr",
     "output_type": "stream",
     "text": [
      "2022-08-16 02:17:00.827438: I tensorflow/core/grappler/optimizers/custom_graph_optimizer_registry.cc:112] Plugin optimizer for device_type GPU is enabled.\n",
      "2022-08-16 02:17:00.895357: I tensorflow/core/grappler/optimizers/custom_graph_optimizer_registry.cc:112] Plugin optimizer for device_type GPU is enabled.\n"
     ]
    },
    {
     "name": "stdout",
     "output_type": "stream",
     "text": [
      "              precision    recall  f1-score   support\n",
      "\n",
      "         0.0       0.51      0.47      0.49       154\n",
      "         1.0       0.51      0.55      0.52       154\n",
      "\n",
      "    accuracy                           0.51       308\n",
      "   macro avg       0.51      0.51      0.51       308\n",
      "weighted avg       0.51      0.51      0.51       308\n",
      "\n"
     ]
    }
   ],
   "source": [
    "seq_len = 10\n",
    "future_pred = 3\n",
    "\n",
    "d = {}\n",
    "\n",
    "for x in ['SPY', 'TLT', 'XME', 'AAPL']: \n",
    "    print('Stock: ', x)\n",
    "    history, predictions = rnn_predictor(x, seq_len, future_pred, val_size = .05 , epoch = 13, batch_size = 128)\n",
    "    d[x] = [history, predictions]\n",
    "\n"
   ]
  },
  {
   "cell_type": "code",
   "execution_count": 40,
   "metadata": {},
   "outputs": [],
   "source": [
    "#%tensorboard --logdir=logs/"
   ]
  },
  {
   "cell_type": "code",
   "execution_count": 42,
   "metadata": {},
   "outputs": [
    {
     "data": {
      "text/plain": [
       "[('SPY', 0.5408163070678711),\n",
       " ('XME', 0.529411792755127),\n",
       " ('TLT', 0.5247524380683899),\n",
       " ('AAPL', 0.5162337422370911)]"
      ]
     },
     "execution_count": 42,
     "metadata": {},
     "output_type": "execute_result"
    }
   ],
   "source": [
    "sorted([(x, max(d[x][0].history['val_accuracy'])) for x in ['SPY', 'TLT', 'XME', 'AAPL']], key=lambda x: x[1], reverse=True)[:5]"
   ]
  },
  {
   "cell_type": "code",
   "execution_count": 43,
   "metadata": {},
   "outputs": [
    {
     "data": {
      "text/plain": [
       "array([1, 1, 1, 1, 0, 1, 1, 1, 0, 1, 1, 1, 1, 1, 1, 1, 0, 1, 1, 0, 1, 1,\n",
       "       1, 1, 1, 1, 0, 1, 1, 0, 1, 1, 0, 1, 1, 1, 1, 0, 1, 1, 0, 1, 1, 1,\n",
       "       1, 1, 1, 1, 0, 1, 1, 1, 1, 0, 1, 1, 1, 0, 1, 1, 1, 1, 1, 1, 1, 1,\n",
       "       0, 1, 1, 1, 0, 1, 1, 1, 0, 1, 1, 1, 1, 1, 1, 1, 0, 1, 1, 1, 1, 1,\n",
       "       0, 0, 1, 1, 1, 0, 1, 1, 1, 0, 1, 1, 1, 0, 1, 1, 1, 1, 1, 0, 1, 1,\n",
       "       1, 1, 0, 1, 1, 0, 1, 1, 1, 1, 0, 1, 1, 1, 0, 1, 1, 1, 1, 0, 1, 1,\n",
       "       1, 1, 0, 1, 1, 1, 1, 0, 1, 1, 1, 1, 1, 1, 1, 0, 1, 1, 1, 1, 0, 0,\n",
       "       0, 0, 0, 1, 1, 0, 1, 1, 1, 1, 1, 1, 1, 0, 1, 0, 0, 1, 1, 0, 1, 0,\n",
       "       1, 1, 1, 1, 1, 1, 1, 1, 1, 1, 0, 1, 1, 1, 1, 1, 1, 1, 1, 1, 0, 1,\n",
       "       0, 0, 1, 1, 1, 0, 1, 0, 0, 0, 1, 1, 1, 1, 1, 0, 1, 1, 1, 1, 1, 1,\n",
       "       0, 1, 1, 1, 1, 0, 1, 1, 1, 1, 1, 1, 1, 0, 1, 1, 0, 1, 1, 1, 1, 1,\n",
       "       1, 1, 1, 1, 1, 1, 0, 0, 0, 0, 1, 0, 1, 1, 1, 1, 0, 1, 1, 1, 0, 1,\n",
       "       1, 1, 0, 1, 0, 0, 1, 0, 1, 1, 0, 1, 0, 0, 0, 1, 1, 0, 1, 1, 0, 1,\n",
       "       1, 1, 1, 0, 0, 0, 1, 1])"
      ]
     },
     "execution_count": 43,
     "metadata": {},
     "output_type": "execute_result"
    }
   ],
   "source": [
    "d['SPY'][1]"
   ]
  },
  {
   "cell_type": "code",
   "execution_count": null,
   "metadata": {},
   "outputs": [],
   "source": []
  }
 ],
 "metadata": {
  "kernelspec": {
   "display_name": "Python 3.9.6 ('tfenv')",
   "language": "python",
   "name": "python3"
  },
  "language_info": {
   "codemirror_mode": {
    "name": "ipython",
    "version": 3
   },
   "file_extension": ".py",
   "mimetype": "text/x-python",
   "name": "python",
   "nbconvert_exporter": "python",
   "pygments_lexer": "ipython3",
   "version": "3.9.6"
  },
  "orig_nbformat": 4,
  "vscode": {
   "interpreter": {
    "hash": "0f5691225a93e304a27eea29538139b817c1edf04c45ad4e49aff7498f22f05c"
   }
  }
 },
 "nbformat": 4,
 "nbformat_minor": 2
}
