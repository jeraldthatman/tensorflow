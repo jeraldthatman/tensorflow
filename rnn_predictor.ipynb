{
 "cells": [
  {
   "cell_type": "code",
   "execution_count": 1,
   "metadata": {},
   "outputs": [],
   "source": [
    "import pandas as pd\n",
    "import numpy as np\n",
    "from sklearn import preprocessing\n",
    "from collections import deque"
   ]
  },
  {
   "cell_type": "code",
   "execution_count": 7,
   "metadata": {},
   "outputs": [],
   "source": [
    "df = pd.read_csv('data.csv',index_col='Date')"
   ]
  },
  {
   "cell_type": "markdown",
   "metadata": {},
   "source": [
    "# Make some targets for the model to predict with \n",
    "- target is the variable \n",
    "- seq_len is how many days we will use to predict \n",
    "- future_pred is the amount of days we will try to predict into the future. \n",
    "\n",
    "    - The classify clause allows you to make a dummy column indicating a buy or a sell signal \n",
    "    - when the future price is greater than the current price, this is a buy signal. \n",
    "    - when the future price is less than the current price, this is a sell or neutral signal. "
   ]
  },
  {
   "cell_type": "code",
   "execution_count": 8,
   "metadata": {},
   "outputs": [],
   "source": [
    "stock = \"aapl\"\n",
    "seq_len = 15\n",
    "future_pred = 5\n",
    "\n",
    "def classify(current, future):\n",
    "    if float(future) >float(current):\n",
    "        return 1\n",
    "    else:\n",
    "        return 0"
   ]
  },
  {
   "cell_type": "code",
   "execution_count": 17,
   "metadata": {},
   "outputs": [
    {
     "data": {
      "text/html": [
       "<div>\n",
       "<style scoped>\n",
       "    .dataframe tbody tr th:only-of-type {\n",
       "        vertical-align: middle;\n",
       "    }\n",
       "\n",
       "    .dataframe tbody tr th {\n",
       "        vertical-align: top;\n",
       "    }\n",
       "\n",
       "    .dataframe thead th {\n",
       "        text-align: right;\n",
       "    }\n",
       "</style>\n",
       "<table border=\"1\" class=\"dataframe\">\n",
       "  <thead>\n",
       "    <tr style=\"text-align: right;\">\n",
       "      <th></th>\n",
       "      <th>Close_aapl</th>\n",
       "      <th>Volume_aapl</th>\n",
       "      <th>future</th>\n",
       "      <th>target</th>\n",
       "    </tr>\n",
       "    <tr>\n",
       "      <th>Date</th>\n",
       "      <th></th>\n",
       "      <th></th>\n",
       "      <th></th>\n",
       "      <th></th>\n",
       "    </tr>\n",
       "  </thead>\n",
       "  <tbody>\n",
       "    <tr>\n",
       "      <th>2016-12-05</th>\n",
       "      <td>27.277500</td>\n",
       "      <td>137298000.0</td>\n",
       "      <td>28.325001</td>\n",
       "      <td>1</td>\n",
       "    </tr>\n",
       "    <tr>\n",
       "      <th>2016-12-06</th>\n",
       "      <td>27.487499</td>\n",
       "      <td>104782000.0</td>\n",
       "      <td>28.797501</td>\n",
       "      <td>1</td>\n",
       "    </tr>\n",
       "    <tr>\n",
       "      <th>2016-12-07</th>\n",
       "      <td>27.757500</td>\n",
       "      <td>119994800.0</td>\n",
       "      <td>28.797501</td>\n",
       "      <td>1</td>\n",
       "    </tr>\n",
       "    <tr>\n",
       "      <th>2016-12-08</th>\n",
       "      <td>28.030001</td>\n",
       "      <td>108273200.0</td>\n",
       "      <td>28.955000</td>\n",
       "      <td>1</td>\n",
       "    </tr>\n",
       "    <tr>\n",
       "      <th>2016-12-09</th>\n",
       "      <td>28.487499</td>\n",
       "      <td>137610400.0</td>\n",
       "      <td>28.992500</td>\n",
       "      <td>1</td>\n",
       "    </tr>\n",
       "  </tbody>\n",
       "</table>\n",
       "</div>"
      ],
      "text/plain": [
       "            Close_aapl  Volume_aapl     future  target\n",
       "Date                                                  \n",
       "2016-12-05   27.277500  137298000.0  28.325001       1\n",
       "2016-12-06   27.487499  104782000.0  28.797501       1\n",
       "2016-12-07   27.757500  119994800.0  28.797501       1\n",
       "2016-12-08   28.030001  108273200.0  28.955000       1\n",
       "2016-12-09   28.487499  137610400.0  28.992500       1"
      ]
     },
     "execution_count": 17,
     "metadata": {},
     "output_type": "execute_result"
    }
   ],
   "source": [
    "# Check to make sure that the future price is shifted 3 time units upward\n",
    "#df[[f\"Close_{stock}\",'future','target']].head(10)\n",
    "def shift_target(df, stock, seq_len, future_pred):\n",
    "    df = df[[f\"Close_{stock}\", f\"Volume_{stock}\"]].copy()\n",
    "    df['future'] = df[f\"Close_{stock}\"].shift(-future_pred) # Shifting the Price Variable, (From the most recent) \n",
    "    df['target'] = list(map(classify,df[f\"Close_{stock}\"],df['future'])) # Classifying Current Price with Future Price (Lagged Vs. Current)\n",
    "    return df\n",
    "\n",
    "data_df = shift_target(df, 'aapl', seq_len, future_pred)\n",
    "data_df.head()"
   ]
  },
  {
   "cell_type": "markdown",
   "metadata": {},
   "source": [
    "# Need to seperate out of sample data.\n",
    "- good practice for time series\n",
    "- without doing this the model will overfit, causing the loss to skyrocket. \n",
    "- seperating the last 5% of the data allows us to forward test on the last 5 percent. "
   ]
  },
  {
   "cell_type": "code",
   "execution_count": 18,
   "metadata": {},
   "outputs": [
    {
     "name": "stdout",
     "output_type": "stream",
     "text": [
      "validation: 57\n",
      "df: 1084\n"
     ]
    }
   ],
   "source": [
    "def split_data(df):\n",
    "    df = df.copy()\n",
    "    time = sorted(df.index.values) # Sorting the Date values. \n",
    "    last5 = time[-int(0.05*len(time))] # Last 5% of the data Used for Validation\n",
    "    val_df = df[df.index>=last5] # Validation Data\n",
    "    df = df[df.index<=last5] # Training Data\n",
    "    return df, val_df\n",
    "\n",
    "train_df, val_df = split_data(data_df)\n",
    "\n",
    "print(f'validation: {len(val_df)}')\n",
    "print(f'df: {len(train_df)}')"
   ]
  },
  {
   "cell_type": "markdown",
   "metadata": {},
   "source": [
    "# Normalizing data. \n",
    "- normalize the data\n",
    "- create the sequences we want to use to predict on\n",
    "- balance the dataset "
   ]
  },
  {
   "cell_type": "code",
   "execution_count": 19,
   "metadata": {},
   "outputs": [],
   "source": [
    "def prep_df(df):\n",
    "    df = df.drop('future',axis=1)\n",
    "    for col in df.columns:\n",
    "        if col != \"target\":\n",
    "            df[col] = df[col].pct_change() # gets the percent change \n",
    "            df.dropna(inplace=True)\n",
    "            df[col] = preprocessing.scale(df[col].values) # Scaling the data. \n",
    "    df.dropna(inplace=True)\n",
    "\n",
    "    seq_data = []\n",
    "    prev_days = deque(maxlen = seq_len) # appends all the data to the empty list, as it gets new items it deletes the old items \n",
    "\n",
    "    for i in df.values:\n",
    "        prev_days.append([n for n in i[:-1]]) # each of the columns up to the last column (target)\n",
    "        if len(prev_days) == seq_len:\n",
    "            seq_data.append([np.array(prev_days), i[-1]])\n",
    "    np.random.shuffle(seq_data)\n",
    "\n",
    "    # balance the data \n",
    "    buys = []\n",
    "    sells = []\n",
    "    for seq, target in seq_data:\n",
    "        if target== 0:\n",
    "            sells.append([seq,target])\n",
    "        elif target ==1:\n",
    "            buys.append([seq, target])\n",
    "\n",
    "    np.random.shuffle(buys)\n",
    "    np.random.shuffle(sells)\n",
    "\n",
    "    lower = min(len(buys), len(sells))\n",
    "    buys = buys[:lower]\n",
    "    sells = sells[:lower]\n",
    "\n",
    "    seq_data = buys+sells\n",
    "    np.random.shuffle(seq_data)\n",
    "\n",
    "    X = []\n",
    "    y = []\n",
    "    \n",
    "    for seq, target in seq_data:\n",
    "        X.append(seq)\n",
    "        y.append(target)\n",
    "    \n",
    "    return(np.array(X),np.array(y))"
   ]
  },
  {
   "cell_type": "code",
   "execution_count": 20,
   "metadata": {},
   "outputs": [],
   "source": [
    "train_x, train_y = prep_df(train_df)\n",
    "val_x, val_y = prep_df(val_df)"
   ]
  },
  {
   "cell_type": "code",
   "execution_count": 26,
   "metadata": {},
   "outputs": [
    {
     "name": "stdout",
     "output_type": "stream",
     "text": [
      "Train Data Shape:  (802, 15, 2) Validation Data Shape:  float64\n"
     ]
    }
   ],
   "source": [
    "print('Train Data Shape: ',train_x.shape,'Validation Data Shape: ', val_x.dtype)"
   ]
  },
  {
   "cell_type": "code",
   "execution_count": 27,
   "metadata": {},
   "outputs": [
    {
     "name": "stdout",
     "output_type": "stream",
     "text": [
      "train data: 802 validation: 34\n"
     ]
    }
   ],
   "source": [
    "print(f'train data: {len(train_x)} validation: {len(val_x)}')\n",
    "#print(f'Sells: {train_y.count(0)}', f'Buys: {train_y.count(1)}')\n",
    "#print(f'ValidationSells: {val_y.count(0)}', f'ValidationBuys: {val_y.count(1)}')\n"
   ]
  },
  {
   "cell_type": "markdown",
   "metadata": {},
   "source": [
    "# Creating the model "
   ]
  },
  {
   "cell_type": "code",
   "execution_count": 28,
   "metadata": {},
   "outputs": [
    {
     "name": "stdout",
     "output_type": "stream",
     "text": [
      "Init Plugin\n",
      "Init Graph Optimizer\n",
      "Init Kernel\n"
     ]
    }
   ],
   "source": [
    "import datetime as dt \n",
    "import tensorflow as tf \n",
    "from tensorflow.keras.models import Sequential \n",
    "from tensorflow.keras.layers import Dense,Dropout,LSTM,BatchNormalization\n",
    "from tensorflow.compat.v1.keras.layers import CuDNNLSTM\n",
    "from tensorflow.keras.callbacks import TensorBoard, ModelCheckpoint"
   ]
  },
  {
   "cell_type": "code",
   "execution_count": 29,
   "metadata": {},
   "outputs": [],
   "source": [
    "ep = 10 \n",
    "batch_size = 64\n",
    "name = f'{stock}-stock-{seq_len}-seq-{future_pred}=pred-{dt.time()}'\n"
   ]
  },
  {
   "cell_type": "code",
   "execution_count": 30,
   "metadata": {},
   "outputs": [
    {
     "name": "stdout",
     "output_type": "stream",
     "text": [
      "Metal device set to: Apple M1\n",
      "\n",
      "systemMemory: 16.00 GB\n",
      "maxCacheSize: 5.33 GB\n",
      "\n"
     ]
    },
    {
     "name": "stderr",
     "output_type": "stream",
     "text": [
      "2022-08-15 15:28:50.705977: I tensorflow/core/common_runtime/pluggable_device/pluggable_device_factory.cc:305] Could not identify NUMA node of platform GPU ID 0, defaulting to 0. Your kernel may not have been built with NUMA support.\n",
      "2022-08-15 15:28:50.706174: I tensorflow/core/common_runtime/pluggable_device/pluggable_device_factory.cc:271] Created TensorFlow device (/job:localhost/replica:0/task:0/device:GPU:0 with 0 MB memory) -> physical PluggableDevice (device: 0, name: METAL, pci bus id: <undefined>)\n",
      "2022-08-15 15:28:52.020672: I tensorflow/core/profiler/lib/profiler_session.cc:126] Profiler session initializing.\n",
      "2022-08-15 15:28:52.020689: I tensorflow/core/profiler/lib/profiler_session.cc:141] Profiler session started.\n",
      "2022-08-15 15:28:52.020754: I tensorflow/core/profiler/lib/profiler_session.cc:159] Profiler session tear down.\n"
     ]
    }
   ],
   "source": [
    "model = Sequential()\n",
    "model.add(tf.keras.layers.LSTM(128,input_shape=(train_x.shape[1:]), return_sequences=True))\n",
    "model.add(Dropout(0.2))\n",
    "model.add(BatchNormalization())\n",
    "\n",
    "model = Sequential()\n",
    "model.add(tf.keras.layers.LSTM(128,input_shape=(train_x.shape[1:]), return_sequences=True))\n",
    "model.add(Dropout(0.1))\n",
    "model.add(BatchNormalization())\n",
    "\n",
    "model = Sequential()\n",
    "model.add(tf.keras.layers.LSTM(128,input_shape=(train_x.shape[1:])))\n",
    "model.add(Dropout(0.2))\n",
    "model.add(BatchNormalization())\n",
    "\n",
    "model.add(Dense(32, activation='relu'))\n",
    "model.add(Dropout(0.2))\n",
    "\n",
    "model.add(Dense(2, activation='softmax'))\n",
    "\n",
    "opt = tf.keras.optimizers.Adam(learning_rate=0.001, decay=1e-6)\n",
    "model.compile(loss= 'sparse_categorical_crossentropy',optimizer= opt, metrics = ['accuracy'])\n",
    "\n",
    "# callbacks \n",
    "tensorboard = TensorBoard(log_dir=f'logs/{name}')\n",
    "filepath = \"RNN_FINAL-{epoch:02d}-{val_accuracy:.3f}\"\n",
    "checkpoint = ModelCheckpoint('models/{}.h5'.format(filepath, monitor='val_accuracy', save_best_only= True, mode= 'max'))\n"
   ]
  },
  {
   "cell_type": "code",
   "execution_count": 31,
   "metadata": {},
   "outputs": [
    {
     "name": "stderr",
     "output_type": "stream",
     "text": [
      "2022-08-15 15:28:58.730785: I tensorflow/compiler/mlir/mlir_graph_optimization_pass.cc:176] None of the MLIR Optimization Passes are enabled (registered 2)\n",
      "2022-08-15 15:28:58.731461: W tensorflow/core/platform/profile_utils/cpu_utils.cc:128] Failed to get CPU frequency: 0 Hz\n"
     ]
    },
    {
     "name": "stdout",
     "output_type": "stream",
     "text": [
      "Epoch 1/10\n"
     ]
    },
    {
     "name": "stderr",
     "output_type": "stream",
     "text": [
      "2022-08-15 15:28:59.649479: I tensorflow/core/grappler/optimizers/custom_graph_optimizer_registry.cc:112] Plugin optimizer for device_type GPU is enabled.\n",
      "2022-08-15 15:29:00.064059: I tensorflow/core/grappler/optimizers/custom_graph_optimizer_registry.cc:112] Plugin optimizer for device_type GPU is enabled.\n",
      "2022-08-15 15:29:04.868384: I tensorflow/core/grappler/optimizers/custom_graph_optimizer_registry.cc:112] Plugin optimizer for device_type GPU is enabled.\n"
     ]
    },
    {
     "name": "stdout",
     "output_type": "stream",
     "text": [
      " 6/13 [============>.................] - ETA: 0s - loss: 0.7600 - accuracy: 0.5156"
     ]
    },
    {
     "name": "stderr",
     "output_type": "stream",
     "text": [
      "2022-08-15 15:29:06.586299: I tensorflow/core/profiler/lib/profiler_session.cc:126] Profiler session initializing.\n",
      "2022-08-15 15:29:06.586319: I tensorflow/core/profiler/lib/profiler_session.cc:141] Profiler session started.\n",
      "2022-08-15 15:29:06.623882: I tensorflow/core/profiler/lib/profiler_session.cc:66] Profiler session collecting data.\n",
      "2022-08-15 15:29:06.625546: I tensorflow/core/profiler/lib/profiler_session.cc:159] Profiler session tear down.\n",
      "2022-08-15 15:29:06.628415: I tensorflow/core/profiler/rpc/client/save_profile.cc:137] Creating directory: logs/aapl-stock-15-seq-5=pred-00:00:00/train/plugins/profile/2022_08_15_15_29_06\n",
      "2022-08-15 15:29:06.629155: I tensorflow/core/profiler/rpc/client/save_profile.cc:143] Dumped gzipped tool data for trace.json.gz to logs/aapl-stock-15-seq-5=pred-00:00:00/train/plugins/profile/2022_08_15_15_29_06/Jerald2020.local.trace.json.gz\n",
      "2022-08-15 15:29:06.631581: I tensorflow/core/profiler/rpc/client/save_profile.cc:137] Creating directory: logs/aapl-stock-15-seq-5=pred-00:00:00/train/plugins/profile/2022_08_15_15_29_06\n",
      "2022-08-15 15:29:06.631797: I tensorflow/core/profiler/rpc/client/save_profile.cc:143] Dumped gzipped tool data for memory_profile.json.gz to logs/aapl-stock-15-seq-5=pred-00:00:00/train/plugins/profile/2022_08_15_15_29_06/Jerald2020.local.memory_profile.json.gz\n",
      "2022-08-15 15:29:06.633084: I tensorflow/core/profiler/rpc/client/capture_profile.cc:251] Creating directory: logs/aapl-stock-15-seq-5=pred-00:00:00/train/plugins/profile/2022_08_15_15_29_06Dumped tool data for xplane.pb to logs/aapl-stock-15-seq-5=pred-00:00:00/train/plugins/profile/2022_08_15_15_29_06/Jerald2020.local.xplane.pb\n",
      "Dumped tool data for overview_page.pb to logs/aapl-stock-15-seq-5=pred-00:00:00/train/plugins/profile/2022_08_15_15_29_06/Jerald2020.local.overview_page.pb\n",
      "Dumped tool data for input_pipeline.pb to logs/aapl-stock-15-seq-5=pred-00:00:00/train/plugins/profile/2022_08_15_15_29_06/Jerald2020.local.input_pipeline.pb\n",
      "Dumped tool data for tensorflow_stats.pb to logs/aapl-stock-15-seq-5=pred-00:00:00/train/plugins/profile/2022_08_15_15_29_06/Jerald2020.local.tensorflow_stats.pb\n",
      "Dumped tool data for kernel_stats.pb to logs/aapl-stock-15-seq-5=pred-00:00:00/train/plugins/profile/2022_08_15_15_29_06/Jerald2020.local.kernel_stats.pb\n",
      "\n"
     ]
    },
    {
     "name": "stdout",
     "output_type": "stream",
     "text": [
      "13/13 [==============================] - ETA: 0s - loss: 0.7528 - accuracy: 0.5112"
     ]
    },
    {
     "name": "stderr",
     "output_type": "stream",
     "text": [
      "2022-08-15 15:29:08.806612: I tensorflow/core/grappler/optimizers/custom_graph_optimizer_registry.cc:112] Plugin optimizer for device_type GPU is enabled.\n",
      "2022-08-15 15:29:08.954376: I tensorflow/core/grappler/optimizers/custom_graph_optimizer_registry.cc:112] Plugin optimizer for device_type GPU is enabled.\n"
     ]
    },
    {
     "name": "stdout",
     "output_type": "stream",
     "text": [
      "13/13 [==============================] - 10s 214ms/step - loss: 0.7528 - accuracy: 0.5112 - val_loss: 0.6954 - val_accuracy: 0.4412\n",
      "Epoch 2/10\n",
      "13/13 [==============================] - 1s 51ms/step - loss: 0.7351 - accuracy: 0.5474 - val_loss: 0.6954 - val_accuracy: 0.3824\n",
      "Epoch 3/10\n",
      "13/13 [==============================] - 1s 54ms/step - loss: 0.7056 - accuracy: 0.5424 - val_loss: 0.6962 - val_accuracy: 0.3824\n",
      "Epoch 4/10\n",
      "13/13 [==============================] - 1s 41ms/step - loss: 0.6986 - accuracy: 0.5461 - val_loss: 0.6948 - val_accuracy: 0.3529\n",
      "Epoch 5/10\n",
      "13/13 [==============================] - 0s 33ms/step - loss: 0.6849 - accuracy: 0.5761 - val_loss: 0.6952 - val_accuracy: 0.3824\n",
      "Epoch 6/10\n",
      "13/13 [==============================] - 0s 28ms/step - loss: 0.6948 - accuracy: 0.5648 - val_loss: 0.6950 - val_accuracy: 0.4118\n",
      "Epoch 7/10\n",
      "13/13 [==============================] - 0s 30ms/step - loss: 0.6795 - accuracy: 0.5736 - val_loss: 0.6952 - val_accuracy: 0.3824\n",
      "Epoch 8/10\n",
      "13/13 [==============================] - 0s 29ms/step - loss: 0.6784 - accuracy: 0.5823 - val_loss: 0.6955 - val_accuracy: 0.4118\n",
      "Epoch 9/10\n",
      "13/13 [==============================] - 0s 28ms/step - loss: 0.6811 - accuracy: 0.5723 - val_loss: 0.6954 - val_accuracy: 0.4118\n",
      "Epoch 10/10\n",
      "13/13 [==============================] - 0s 30ms/step - loss: 0.6754 - accuracy: 0.5698 - val_loss: 0.6952 - val_accuracy: 0.4706\n"
     ]
    }
   ],
   "source": [
    "history = model.fit(\n",
    "    train_x,train_y, \n",
    "    batch_size= batch_size,\n",
    "    epochs = ep,\n",
    "    validation_data= (val_x, val_y),\n",
    "    callbacks=[tensorboard,checkpoint]\n",
    "    )"
   ]
  },
  {
   "cell_type": "code",
   "execution_count": 32,
   "metadata": {},
   "outputs": [
    {
     "data": {
      "text/plain": [
       "<AxesSubplot:>"
      ]
     },
     "execution_count": 32,
     "metadata": {},
     "output_type": "execute_result"
    },
    {
     "data": {
      "image/png": "[encoded data removed]",
      "text/plain": [
       "<Figure size 432x288 with 1 Axes>"
      ]
     },
     "metadata": {
      "needs_background": "light"
     },
     "output_type": "display_data"
    }
   ],
   "source": [
    "import matplotlib.pyplot as plt \n",
    "%matplotlib inline\n",
    "resdf = pd.DataFrame(history.history)\n",
    "resdf.plot()"
   ]
  },
  {
   "cell_type": "code",
   "execution_count": 33,
   "metadata": {},
   "outputs": [
    {
     "name": "stderr",
     "output_type": "stream",
     "text": [
      "2022-08-15 15:29:59.006595: I tensorflow/core/grappler/optimizers/custom_graph_optimizer_registry.cc:112] Plugin optimizer for device_type GPU is enabled.\n",
      "2022-08-15 15:29:59.059722: I tensorflow/core/grappler/optimizers/custom_graph_optimizer_registry.cc:112] Plugin optimizer for device_type GPU is enabled.\n"
     ]
    },
    {
     "name": "stdout",
     "output_type": "stream",
     "text": [
      "              precision    recall  f1-score   support\n",
      "\n",
      "         0.0       0.47      0.53      0.50        17\n",
      "         1.0       0.47      0.41      0.44        17\n",
      "\n",
      "    accuracy                           0.47        34\n",
      "   macro avg       0.47      0.47      0.47        34\n",
      "weighted avg       0.47      0.47      0.47        34\n",
      "\n"
     ]
    }
   ],
   "source": [
    "from sklearn.metrics import classification_report,confusion_matrix\n",
    "predictions = np.argmax(model.predict(val_x), axis=1)\n",
    "print(classification_report(val_y,predictions))"
   ]
  },
  {
   "cell_type": "code",
   "execution_count": 34,
   "metadata": {},
   "outputs": [
    {
     "data": {
      "text/plain": [
       "array([0, 0, 0, 0, 0, 0, 0, 1, 1, 0, 0, 1, 1, 1, 0, 1, 0, 0, 0, 1, 1, 1,\n",
       "       1, 0, 0, 0, 1, 1, 0, 1, 1, 0, 0, 1])"
      ]
     },
     "execution_count": 34,
     "metadata": {},
     "output_type": "execute_result"
    }
   ],
   "source": [
    "predictions"
   ]
  },
  {
   "cell_type": "code",
   "execution_count": null,
   "metadata": {},
   "outputs": [],
   "source": []
  }
 ],
 "metadata": {
  "kernelspec": {
   "display_name": "Python 3.9.6 ('tfenv')",
   "language": "python",
   "name": "python3"
  },
  "language_info": {
   "codemirror_mode": {
    "name": "ipython",
    "version": 3
   },
   "file_extension": ".py",
   "mimetype": "text/x-python",
   "name": "python",
   "nbconvert_exporter": "python",
   "pygments_lexer": "ipython3",
   "version": "3.9.6"
  },
  "orig_nbformat": 4,
  "vscode": {
   "interpreter": {
    "hash": "0f5691225a93e304a27eea29538139b817c1edf04c45ad4e49aff7498f22f05c"
   }
  }
 },
 "nbformat": 4,
 "nbformat_minor": 2
}
