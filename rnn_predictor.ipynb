{
 "cells": [
  {
   "cell_type": "code",
   "execution_count": 1,
   "metadata": {},
   "outputs": [],
   "source": [
    "import pandas as pd\n",
    "import numpy as np\n",
    "from sklearn import preprocessing\n",
    "from collections import deque"
   ]
  },
  {
   "cell_type": "code",
   "execution_count": 2,
   "metadata": {},
   "outputs": [],
   "source": [
    "df = pd.read_csv('data.csv',index_col='Date')"
   ]
  },
  {
   "cell_type": "markdown",
   "metadata": {},
   "source": [
    "# Make some targets for the model to predict with \n",
    "- target is the variable \n",
    "- seq_len is how many days we will use to predict \n",
    "- future_pred is the amount of days we will try to predict into the future. \n",
    "\n",
    "    - The classify clause allows you to make a dummy column indicating a buy or a sell signal \n",
    "    - when the future price is greater than the current price, this is a buy signal. \n",
    "    - when the future price is less than the current price, this is a sell or neutral signal. "
   ]
  },
  {
   "cell_type": "code",
   "execution_count": 3,
   "metadata": {},
   "outputs": [],
   "source": [
    "stock = \"aapl\"\n",
    "seq_len = 15\n",
    "future_pred = 5\n",
    "\n",
    "def classify(current, future):\n",
    "    if float(future) >float(current):\n",
    "        return 1\n",
    "    else:\n",
    "        return 0"
   ]
  },
  {
   "cell_type": "code",
   "execution_count": 4,
   "metadata": {},
   "outputs": [],
   "source": [
    "# Shifting the target variable 3 days ahead\n",
    "df['future'] = df[f\"Close_{stock}\"].shift(-future_pred)\n",
    "df['target'] = list(map(classify,df[f\"Close_{stock}\"],df['future']))"
   ]
  },
  {
   "cell_type": "code",
   "execution_count": 5,
   "metadata": {},
   "outputs": [],
   "source": [
    "# Check to make sure that the future price is shifted 3 time units upward\n",
    "#df[[f\"Close_{stock}\",'future','target']].head(10)"
   ]
  },
  {
   "cell_type": "markdown",
   "metadata": {},
   "source": [
    "# Need to seperate out of sample data.\n",
    "- good practice for time series\n",
    "- without doing this the model will overfit, causing the loss to skyrocket. \n",
    "- seperating the last 5% of the data allows us to forward test on the last 5 percent. "
   ]
  },
  {
   "cell_type": "code",
   "execution_count": 6,
   "metadata": {},
   "outputs": [],
   "source": [
    "time = sorted(df.index.values)\n",
    "last5 = time[-int(0.05*len(time))]"
   ]
  },
  {
   "cell_type": "code",
   "execution_count": 7,
   "metadata": {},
   "outputs": [],
   "source": [
    "val_df = df[df.index>=last5]\n",
    "df = df[df.index<=last5]"
   ]
  },
  {
   "cell_type": "code",
   "execution_count": 8,
   "metadata": {},
   "outputs": [
    {
     "name": "stdout",
     "output_type": "stream",
     "text": [
      "validation: 62\n",
      "df: 1198\n"
     ]
    }
   ],
   "source": [
    "print(f'validation: {len(val_df)}')\n",
    "print(f'df: {len(df)}')"
   ]
  },
  {
   "cell_type": "markdown",
   "metadata": {},
   "source": [
    "# Normalizing data. \n",
    "- normalize the data\n",
    "- create the sequences we want to use to predict on\n",
    "- balance the dataset "
   ]
  },
  {
   "cell_type": "code",
   "execution_count": 9,
   "metadata": {},
   "outputs": [],
   "source": [
    "def prep_df(df):\n",
    "    df = df.drop('future',axis=1)\n",
    "    for col in df.columns:\n",
    "        if col != \"target\":\n",
    "            df[col] = df[col].pct_change() # gets the percent change \n",
    "            df.dropna(inplace=True)\n",
    "            df[col] = preprocessing.scale(df[col].values)\n",
    "    df.dropna(inplace=True)\n",
    "\n",
    "    seq_data = []\n",
    "    prev_days = deque(maxlen = seq_len) # appends all the data to the empty list, as it gets new items it deletes the old items \n",
    "\n",
    "    for i in df.values:\n",
    "        prev_days.append([n for n in i[:-1]]) # each of the columns up to the last column (target)\n",
    "        if len(prev_days) == seq_len:\n",
    "            seq_data.append([np.array(prev_days), i[-1]])\n",
    "    np.random.shuffle(seq_data)\n",
    "\n",
    "    # balance the data \n",
    "    buys = []\n",
    "    sells = []\n",
    "    for seq, target in seq_data:\n",
    "        if target== 0:\n",
    "            sells.append([seq,target])\n",
    "        elif target ==1:\n",
    "            buys.append([seq, target])\n",
    "\n",
    "    np.random.shuffle(buys)\n",
    "    np.random.shuffle(sells)\n",
    "\n",
    "    lower = min(len(buys), len(sells))\n",
    "    buys = buys[:lower]\n",
    "    sells = sells[:lower]\n",
    "\n",
    "    seq_data = buys+sells\n",
    "    np.random.shuffle(seq_data)\n",
    "\n",
    "    X = []\n",
    "    y = []\n",
    "    \n",
    "    for seq, target in seq_data:\n",
    "        X.append(seq)\n",
    "        y.append(target)\n",
    "    \n",
    "    return(np.array(X),np.array(y))"
   ]
  },
  {
   "cell_type": "code",
   "execution_count": 10,
   "metadata": {},
   "outputs": [],
   "source": [
    "train_x, train_y = prep_df(df)\n",
    "val_x, val_y = prep_df(val_df)"
   ]
  },
  {
   "cell_type": "code",
   "execution_count": 11,
   "metadata": {},
   "outputs": [
    {
     "name": "stdout",
     "output_type": "stream",
     "text": [
      "(878,) float64\n"
     ]
    }
   ],
   "source": [
    "#print(train_x.shape, val_x.dtype)\n",
    "print(train_y.shape, val_y.dtype)"
   ]
  },
  {
   "cell_type": "code",
   "execution_count": 12,
   "metadata": {},
   "outputs": [
    {
     "name": "stdout",
     "output_type": "stream",
     "text": [
      "train data: 878 validation: 28\n"
     ]
    }
   ],
   "source": [
    "print(f'train data: {len(train_x)} validation: {len(val_x)}')\n",
    "#print(f'Sells: {train_y.count(0)}', f'Buys: {train_y.count(1)}')\n",
    "#print(f'ValidationSells: {val_y.count(0)}', f'ValidationBuys: {val_y.count(1)}')\n"
   ]
  },
  {
   "cell_type": "markdown",
   "metadata": {},
   "source": [
    "# Creating the model "
   ]
  },
  {
   "cell_type": "code",
   "execution_count": 13,
   "metadata": {},
   "outputs": [
    {
     "name": "stdout",
     "output_type": "stream",
     "text": [
      "Init Plugin\n",
      "Init Graph Optimizer\n",
      "Init Kernel\n"
     ]
    }
   ],
   "source": [
    "import datetime as dt \n",
    "import tensorflow as tf \n",
    "from tensorflow.keras.models import Sequential \n",
    "from tensorflow.keras.layers import Dense,Dropout,LSTM,BatchNormalization\n",
    "from tensorflow.compat.v1.keras.layers import CuDNNLSTM\n",
    "from tensorflow.keras.callbacks import TensorBoard, ModelCheckpoint"
   ]
  },
  {
   "cell_type": "code",
   "execution_count": 14,
   "metadata": {},
   "outputs": [],
   "source": [
    "ep = 10 \n",
    "batch_size = 64\n",
    "name = f'{stock}-stock-{seq_len}-seq-{future_pred}=pred-{dt.time()}'\n"
   ]
  },
  {
   "cell_type": "code",
   "execution_count": 15,
   "metadata": {},
   "outputs": [
    {
     "name": "stderr",
     "output_type": "stream",
     "text": [
      "2021-12-04 14:32:15.260683: I tensorflow/core/common_runtime/pluggable_device/pluggable_device_factory.cc:305] Could not identify NUMA node of platform GPU ID 0, defaulting to 0. Your kernel may not have been built with NUMA support.\n",
      "2021-12-04 14:32:15.260779: I tensorflow/core/common_runtime/pluggable_device/pluggable_device_factory.cc:271] Created TensorFlow device (/job:localhost/replica:0/task:0/device:GPU:0 with 0 MB memory) -> physical PluggableDevice (device: 0, name: METAL, pci bus id: <undefined>)\n"
     ]
    },
    {
     "name": "stdout",
     "output_type": "stream",
     "text": [
      "Metal device set to: Apple M1\n",
      "\n",
      "systemMemory: 16.00 GB\n",
      "maxCacheSize: 5.33 GB\n",
      "\n"
     ]
    },
    {
     "name": "stderr",
     "output_type": "stream",
     "text": [
      "2021-12-04 14:32:15.508774: I tensorflow/core/profiler/lib/profiler_session.cc:126] Profiler session initializing.\n",
      "2021-12-04 14:32:15.508784: I tensorflow/core/profiler/lib/profiler_session.cc:141] Profiler session started.\n",
      "2021-12-04 14:32:15.508800: I tensorflow/core/profiler/lib/profiler_session.cc:159] Profiler session tear down.\n"
     ]
    }
   ],
   "source": [
    "model = Sequential()\n",
    "model.add(tf.keras.layers.LSTM(128,input_shape=(train_x.shape[1:]), return_sequences=True))\n",
    "model.add(Dropout(0.2))\n",
    "model.add(BatchNormalization())\n",
    "\n",
    "model = Sequential()\n",
    "model.add(tf.keras.layers.LSTM(128,input_shape=(train_x.shape[1:]), return_sequences=True))\n",
    "model.add(Dropout(0.1))\n",
    "model.add(BatchNormalization())\n",
    "\n",
    "model = Sequential()\n",
    "model.add(tf.keras.layers.LSTM(128,input_shape=(train_x.shape[1:])))\n",
    "model.add(Dropout(0.2))\n",
    "model.add(BatchNormalization())\n",
    "\n",
    "model.add(Dense(32, activation='relu'))\n",
    "model.add(Dropout(0.2))\n",
    "\n",
    "model.add(Dense(2, activation='softmax'))\n",
    "\n",
    "opt = tf.keras.optimizers.Adam(learning_rate=0.001, decay=1e-6)\n",
    "model.compile(loss= 'sparse_categorical_crossentropy',optimizer= opt, metrics = ['accuracy'])\n",
    "\n",
    "# callbacks \n",
    "tensorboard = TensorBoard(log_dir=f'logs/{name}')\n",
    "filepath = \"RNN_FINAL-{epoch:02d}-{val_accuracy:.3f}\"\n",
    "checkpoint = ModelCheckpoint('models/{}.h5'.format(filepath, monitor='val_accuracy', save_best_only= True, mode= 'max'))\n"
   ]
  },
  {
   "cell_type": "code",
   "execution_count": 16,
   "metadata": {},
   "outputs": [
    {
     "name": "stderr",
     "output_type": "stream",
     "text": [
      "2021-12-04 14:32:15.541411: I tensorflow/compiler/mlir/mlir_graph_optimization_pass.cc:176] None of the MLIR Optimization Passes are enabled (registered 2)\n",
      "2021-12-04 14:32:15.541591: W tensorflow/core/platform/profile_utils/cpu_utils.cc:128] Failed to get CPU frequency: 0 Hz\n"
     ]
    },
    {
     "name": "stdout",
     "output_type": "stream",
     "text": [
      "Epoch 1/10\n"
     ]
    },
    {
     "name": "stderr",
     "output_type": "stream",
     "text": [
      "2021-12-04 14:32:15.919341: I tensorflow/core/grappler/optimizers/custom_graph_optimizer_registry.cc:112] Plugin optimizer for device_type GPU is enabled.\n",
      "2021-12-04 14:32:16.007378: I tensorflow/core/grappler/optimizers/custom_graph_optimizer_registry.cc:112] Plugin optimizer for device_type GPU is enabled.\n"
     ]
    },
    {
     "name": "stdout",
     "output_type": "stream",
     "text": [
      " 3/14 [=====>........................] - ETA: 0s - loss: 0.7259 - accuracy: 0.5573"
     ]
    },
    {
     "name": "stderr",
     "output_type": "stream",
     "text": [
      "2021-12-04 14:32:16.121778: I tensorflow/core/grappler/optimizers/custom_graph_optimizer_registry.cc:112] Plugin optimizer for device_type GPU is enabled.\n",
      "2021-12-04 14:32:16.226989: I tensorflow/core/profiler/lib/profiler_session.cc:126] Profiler session initializing.\n",
      "2021-12-04 14:32:16.226999: I tensorflow/core/profiler/lib/profiler_session.cc:141] Profiler session started.\n",
      "2021-12-04 14:32:16.248372: I tensorflow/core/profiler/lib/profiler_session.cc:66] Profiler session collecting data.\n",
      "2021-12-04 14:32:16.248942: I tensorflow/core/profiler/lib/profiler_session.cc:159] Profiler session tear down.\n",
      "2021-12-04 14:32:16.249830: I tensorflow/core/profiler/rpc/client/save_profile.cc:137] Creating directory: logs/aapl-stock-15-seq-5=pred-00:00:00/train/plugins/profile/2021_12_04_14_32_16\n",
      "2021-12-04 14:32:16.250334: I tensorflow/core/profiler/rpc/client/save_profile.cc:143] Dumped gzipped tool data for trace.json.gz to logs/aapl-stock-15-seq-5=pred-00:00:00/train/plugins/profile/2021_12_04_14_32_16/Jerald2020.local.trace.json.gz\n",
      "2021-12-04 14:32:16.251305: I tensorflow/core/profiler/rpc/client/save_profile.cc:137] Creating directory: logs/aapl-stock-15-seq-5=pred-00:00:00/train/plugins/profile/2021_12_04_14_32_16\n",
      "2021-12-04 14:32:16.251440: I tensorflow/core/profiler/rpc/client/save_profile.cc:143] Dumped gzipped tool data for memory_profile.json.gz to logs/aapl-stock-15-seq-5=pred-00:00:00/train/plugins/profile/2021_12_04_14_32_16/Jerald2020.local.memory_profile.json.gz\n",
      "2021-12-04 14:32:16.251799: I tensorflow/core/profiler/rpc/client/capture_profile.cc:251] Creating directory: logs/aapl-stock-15-seq-5=pred-00:00:00/train/plugins/profile/2021_12_04_14_32_16Dumped tool data for xplane.pb to logs/aapl-stock-15-seq-5=pred-00:00:00/train/plugins/profile/2021_12_04_14_32_16/Jerald2020.local.xplane.pb\n",
      "Dumped tool data for overview_page.pb to logs/aapl-stock-15-seq-5=pred-00:00:00/train/plugins/profile/2021_12_04_14_32_16/Jerald2020.local.overview_page.pb\n",
      "Dumped tool data for input_pipeline.pb to logs/aapl-stock-15-seq-5=pred-00:00:00/train/plugins/profile/2021_12_04_14_32_16/Jerald2020.local.input_pipeline.pb\n",
      "Dumped tool data for tensorflow_stats.pb to logs/aapl-stock-15-seq-5=pred-00:00:00/train/plugins/profile/2021_12_04_14_32_16/Jerald2020.local.tensorflow_stats.pb\n",
      "Dumped tool data for kernel_stats.pb to logs/aapl-stock-15-seq-5=pred-00:00:00/train/plugins/profile/2021_12_04_14_32_16/Jerald2020.local.kernel_stats.pb\n",
      "\n"
     ]
    },
    {
     "name": "stdout",
     "output_type": "stream",
     "text": [
      "14/14 [==============================] - 1s 46ms/step - loss: 0.7646 - accuracy: 0.5285 - val_loss: 0.6975 - val_accuracy: 0.5000\n",
      "Epoch 2/10\n",
      " 1/14 [=>............................] - ETA: 0s - loss: 0.6865 - accuracy: 0.4844"
     ]
    },
    {
     "name": "stderr",
     "output_type": "stream",
     "text": [
      "2021-12-04 14:32:16.691226: I tensorflow/core/grappler/optimizers/custom_graph_optimizer_registry.cc:112] Plugin optimizer for device_type GPU is enabled.\n",
      "2021-12-04 14:32:16.733102: I tensorflow/core/grappler/optimizers/custom_graph_optimizer_registry.cc:112] Plugin optimizer for device_type GPU is enabled.\n"
     ]
    },
    {
     "name": "stdout",
     "output_type": "stream",
     "text": [
      "14/14 [==============================] - 0s 29ms/step - loss: 0.7022 - accuracy: 0.5547 - val_loss: 0.6903 - val_accuracy: 0.5357\n",
      "Epoch 3/10\n",
      "14/14 [==============================] - 0s 23ms/step - loss: 0.6862 - accuracy: 0.6093 - val_loss: 0.6939 - val_accuracy: 0.5714\n",
      "Epoch 4/10\n",
      "14/14 [==============================] - 0s 24ms/step - loss: 0.6519 - accuracy: 0.6264 - val_loss: 0.6912 - val_accuracy: 0.5000\n",
      "Epoch 5/10\n",
      "14/14 [==============================] - 0s 23ms/step - loss: 0.6415 - accuracy: 0.6298 - val_loss: 0.6923 - val_accuracy: 0.4643\n",
      "Epoch 6/10\n",
      "14/14 [==============================] - 0s 20ms/step - loss: 0.6392 - accuracy: 0.6116 - val_loss: 0.6947 - val_accuracy: 0.4643\n",
      "Epoch 7/10\n",
      "14/14 [==============================] - 0s 21ms/step - loss: 0.6129 - accuracy: 0.6708 - val_loss: 0.6932 - val_accuracy: 0.5000\n",
      "Epoch 8/10\n",
      "14/14 [==============================] - 0s 21ms/step - loss: 0.5990 - accuracy: 0.6697 - val_loss: 0.6949 - val_accuracy: 0.5357\n",
      "Epoch 9/10\n",
      "14/14 [==============================] - 0s 26ms/step - loss: 0.5878 - accuracy: 0.6800 - val_loss: 0.6964 - val_accuracy: 0.4286\n",
      "Epoch 10/10\n",
      "14/14 [==============================] - 0s 20ms/step - loss: 0.5759 - accuracy: 0.6925 - val_loss: 0.6938 - val_accuracy: 0.5000\n"
     ]
    }
   ],
   "source": [
    "history = model.fit(\n",
    "    train_x,train_y, \n",
    "    batch_size= batch_size,\n",
    "    epochs = ep,\n",
    "    validation_data= (val_x, val_y),\n",
    "    callbacks=[tensorboard,checkpoint]\n",
    "    )"
   ]
  },
  {
   "cell_type": "code",
   "execution_count": 17,
   "metadata": {},
   "outputs": [
    {
     "data": {
      "text/plain": [
       "<AxesSubplot:>"
      ]
     },
     "execution_count": 17,
     "metadata": {},
     "output_type": "execute_result"
    },
    {
     "data": {
      "image/png": "[encoded data removed]",
      "text/plain": [
       "<Figure size 432x288 with 1 Axes>"
      ]
     },
     "metadata": {
      "needs_background": "light"
     },
     "output_type": "display_data"
    }
   ],
   "source": [
    "import matplotlib.pyplot as plt \n",
    "%matplotlib inline\n",
    "resdf = pd.DataFrame(history.history)\n",
    "resdf.plot()"
   ]
  },
  {
   "cell_type": "code",
   "execution_count": 18,
   "metadata": {},
   "outputs": [
    {
     "name": "stdout",
     "output_type": "stream",
     "text": [
      "              precision    recall  f1-score   support\n",
      "\n",
      "         0.0       0.50      0.07      0.12        14\n",
      "         1.0       0.50      0.93      0.65        14\n",
      "\n",
      "    accuracy                           0.50        28\n",
      "   macro avg       0.50      0.50      0.39        28\n",
      "weighted avg       0.50      0.50      0.39        28\n",
      "\n"
     ]
    },
    {
     "name": "stderr",
     "output_type": "stream",
     "text": [
      "2021-12-04 14:32:20.440750: I tensorflow/core/grappler/optimizers/custom_graph_optimizer_registry.cc:112] Plugin optimizer for device_type GPU is enabled.\n",
      "2021-12-04 14:32:20.462533: I tensorflow/core/grappler/optimizers/custom_graph_optimizer_registry.cc:112] Plugin optimizer for device_type GPU is enabled.\n"
     ]
    }
   ],
   "source": [
    "from sklearn.metrics import classification_report,confusion_matrix\n",
    "predictions = np.argmax(model.predict(val_x), axis=1)\n",
    "print(classification_report(val_y,predictions))"
   ]
  },
  {
   "cell_type": "code",
   "execution_count": 19,
   "metadata": {},
   "outputs": [
    {
     "data": {
      "text/plain": [
       "array([1, 1, 1, 1, 1, 1, 0, 1, 1, 1, 1, 1, 1, 1, 1, 1, 1, 1, 1, 1, 1, 1,\n",
       "       1, 1, 1, 1, 1, 0])"
      ]
     },
     "execution_count": 19,
     "metadata": {},
     "output_type": "execute_result"
    }
   ],
   "source": [
    "predictions"
   ]
  },
  {
   "cell_type": "code",
   "execution_count": null,
   "metadata": {},
   "outputs": [],
   "source": []
  }
 ],
 "metadata": {
  "interpreter": {
   "hash": "0f6d524bdf5395ca9f3524d5584d4d2cbcff63c23d82f2af844788708e3b8557"
  },
  "kernelspec": {
   "display_name": "Python 3.9.6 64-bit ('tfenv': conda)",
   "name": "python3"
  },
  "language_info": {
   "codemirror_mode": {
    "name": "ipython",
    "version": 3
   },
   "file_extension": ".py",
   "mimetype": "text/x-python",
   "name": "python",
   "nbconvert_exporter": "python",
   "pygments_lexer": "ipython3",
   "version": "3.9.6"
  },
  "orig_nbformat": 4
 },
 "nbformat": 4,
 "nbformat_minor": 2
}
