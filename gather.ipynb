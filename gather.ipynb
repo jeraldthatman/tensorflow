{
 "cells": [
  {
   "cell_type": "markdown",
   "metadata": {},
   "source": [
    "# Gather some stock data "
   ]
  },
  {
   "cell_type": "code",
   "execution_count": 1,
   "metadata": {},
   "outputs": [],
   "source": [
    "import pandas_datareader as pdr\n",
    "import datetime as dt\n",
    "import pandas as pd \n",
    "import yfinance as yf \n"
   ]
  },
  {
   "cell_type": "code",
   "execution_count": 18,
   "metadata": {},
   "outputs": [],
   "source": [
    "stock = ['aapl','msft','goog', 'spy', 'bno']\n",
    "sectors_txt = \"xly igv fdn xlre xlk xrt jets tan xlv smh ibb xlu itb xlp xlc pho xli xlf xlb moo pbw xme xle gdx lqd spy tlt weat corn uup aapl bno\"\n",
    "sectors = sectors_txt.split(' ')"
   ]
  },
  {
   "cell_type": "code",
   "execution_count": 19,
   "metadata": {},
   "outputs": [
    {
     "name": "stdout",
     "output_type": "stream",
     "text": [
      "[*********************100%***********************]  32 of 32 completed\n"
     ]
    }
   ],
   "source": [
    "def get_price_data(stocks, download = False):\n",
    "    stocks = [x.upper() for x in stocks]\n",
    "    if download != False: \n",
    "        from yfinance import download as yfd \n",
    "        today = dt.datetime.today().strftime('%Y-%m-%d')\n",
    "        stock_price = yfd(stocks, start='1994-12-31', end=today)\n",
    "        stock_price.columns.names =['Metric', 'Stock_name']\n",
    "        stock_price.head()\n",
    "        stock_price.to_csv('stock_prices.csv')\n",
    "        return stock_price\n",
    "    else: \n",
    "        sp = pd.read_csv('stock_prices.csv', header=[0,1])\n",
    "        sp.set_index(sp.columns[0], inplace= True)\n",
    "        sp.index.name = 'Date'\n",
    "        sp.columns.names =['Metric', 'Stock_name']\n",
    "        return  sp.iloc[1:, :]\n",
    "\n",
    "df = get_price_data(sectors, download =True )\n",
    "\n",
    "def add_stock_price(stock, sp = df):\n",
    "    out = sp.xs(key = stock.upper(), axis = 1, level = 'Stock_name', drop_level=True)\n",
    "    out.columns.names = ['']\n",
    "    out.columns = out.columns.get_level_values(0)\n",
    "    return out"
   ]
  },
  {
   "cell_type": "code",
   "execution_count": 20,
   "metadata": {},
   "outputs": [
    {
     "data": {
      "text/html": [
       "<div>\n",
       "<style scoped>\n",
       "    .dataframe tbody tr th:only-of-type {\n",
       "        vertical-align: middle;\n",
       "    }\n",
       "\n",
       "    .dataframe tbody tr th {\n",
       "        vertical-align: top;\n",
       "    }\n",
       "\n",
       "    .dataframe thead th {\n",
       "        text-align: right;\n",
       "    }\n",
       "</style>\n",
       "<table border=\"1\" class=\"dataframe\">\n",
       "  <thead>\n",
       "    <tr style=\"text-align: right;\">\n",
       "      <th></th>\n",
       "      <th>Adj Close</th>\n",
       "      <th>Close</th>\n",
       "      <th>High</th>\n",
       "      <th>Low</th>\n",
       "      <th>Open</th>\n",
       "      <th>Volume</th>\n",
       "    </tr>\n",
       "    <tr>\n",
       "      <th>Date</th>\n",
       "      <th></th>\n",
       "      <th></th>\n",
       "      <th></th>\n",
       "      <th></th>\n",
       "      <th></th>\n",
       "      <th></th>\n",
       "    </tr>\n",
       "  </thead>\n",
       "  <tbody>\n",
       "    <tr>\n",
       "      <th>1995-01-03</th>\n",
       "      <td>0.289250</td>\n",
       "      <td>0.342634</td>\n",
       "      <td>0.347098</td>\n",
       "      <td>0.338170</td>\n",
       "      <td>0.347098</td>\n",
       "      <td>103868800</td>\n",
       "    </tr>\n",
       "    <tr>\n",
       "      <th>1995-01-04</th>\n",
       "      <td>0.296788</td>\n",
       "      <td>0.351563</td>\n",
       "      <td>0.353795</td>\n",
       "      <td>0.344866</td>\n",
       "      <td>0.344866</td>\n",
       "      <td>158681600</td>\n",
       "    </tr>\n",
       "    <tr>\n",
       "      <th>1995-01-05</th>\n",
       "      <td>0.293018</td>\n",
       "      <td>0.347098</td>\n",
       "      <td>0.351563</td>\n",
       "      <td>0.345982</td>\n",
       "      <td>0.350446</td>\n",
       "      <td>73640000</td>\n",
       "    </tr>\n",
       "    <tr>\n",
       "      <th>1995-01-06</th>\n",
       "      <td>0.316573</td>\n",
       "      <td>0.375000</td>\n",
       "      <td>0.385045</td>\n",
       "      <td>0.367188</td>\n",
       "      <td>0.371652</td>\n",
       "      <td>1076622400</td>\n",
       "    </tr>\n",
       "    <tr>\n",
       "      <th>1995-01-09</th>\n",
       "      <td>0.310567</td>\n",
       "      <td>0.367885</td>\n",
       "      <td>0.373884</td>\n",
       "      <td>0.366071</td>\n",
       "      <td>0.371652</td>\n",
       "      <td>274086400</td>\n",
       "    </tr>\n",
       "    <tr>\n",
       "      <th>...</th>\n",
       "      <td>...</td>\n",
       "      <td>...</td>\n",
       "      <td>...</td>\n",
       "      <td>...</td>\n",
       "      <td>...</td>\n",
       "      <td>...</td>\n",
       "    </tr>\n",
       "    <tr>\n",
       "      <th>2022-08-08</th>\n",
       "      <td>164.869995</td>\n",
       "      <td>164.869995</td>\n",
       "      <td>167.809998</td>\n",
       "      <td>164.199997</td>\n",
       "      <td>166.369995</td>\n",
       "      <td>60276900</td>\n",
       "    </tr>\n",
       "    <tr>\n",
       "      <th>2022-08-09</th>\n",
       "      <td>164.919998</td>\n",
       "      <td>164.919998</td>\n",
       "      <td>165.820007</td>\n",
       "      <td>163.250000</td>\n",
       "      <td>164.020004</td>\n",
       "      <td>63135500</td>\n",
       "    </tr>\n",
       "    <tr>\n",
       "      <th>2022-08-10</th>\n",
       "      <td>169.240005</td>\n",
       "      <td>169.240005</td>\n",
       "      <td>169.339996</td>\n",
       "      <td>166.899994</td>\n",
       "      <td>167.679993</td>\n",
       "      <td>70170500</td>\n",
       "    </tr>\n",
       "    <tr>\n",
       "      <th>2022-08-11</th>\n",
       "      <td>168.490005</td>\n",
       "      <td>168.490005</td>\n",
       "      <td>170.990005</td>\n",
       "      <td>168.190002</td>\n",
       "      <td>170.059998</td>\n",
       "      <td>57149200</td>\n",
       "    </tr>\n",
       "    <tr>\n",
       "      <th>2022-08-12</th>\n",
       "      <td>172.100006</td>\n",
       "      <td>172.100006</td>\n",
       "      <td>172.169998</td>\n",
       "      <td>169.399994</td>\n",
       "      <td>169.820007</td>\n",
       "      <td>67946400</td>\n",
       "    </tr>\n",
       "  </tbody>\n",
       "</table>\n",
       "<p>6953 rows × 6 columns</p>\n",
       "</div>"
      ],
      "text/plain": [
       "             Adj Close       Close        High         Low        Open  \\\n",
       "Date                                                                     \n",
       "1995-01-03    0.289250    0.342634    0.347098    0.338170    0.347098   \n",
       "1995-01-04    0.296788    0.351563    0.353795    0.344866    0.344866   \n",
       "1995-01-05    0.293018    0.347098    0.351563    0.345982    0.350446   \n",
       "1995-01-06    0.316573    0.375000    0.385045    0.367188    0.371652   \n",
       "1995-01-09    0.310567    0.367885    0.373884    0.366071    0.371652   \n",
       "...                ...         ...         ...         ...         ...   \n",
       "2022-08-08  164.869995  164.869995  167.809998  164.199997  166.369995   \n",
       "2022-08-09  164.919998  164.919998  165.820007  163.250000  164.020004   \n",
       "2022-08-10  169.240005  169.240005  169.339996  166.899994  167.679993   \n",
       "2022-08-11  168.490005  168.490005  170.990005  168.190002  170.059998   \n",
       "2022-08-12  172.100006  172.100006  172.169998  169.399994  169.820007   \n",
       "\n",
       "                Volume  \n",
       "Date                    \n",
       "1995-01-03   103868800  \n",
       "1995-01-04   158681600  \n",
       "1995-01-05    73640000  \n",
       "1995-01-06  1076622400  \n",
       "1995-01-09   274086400  \n",
       "...                ...  \n",
       "2022-08-08    60276900  \n",
       "2022-08-09    63135500  \n",
       "2022-08-10    70170500  \n",
       "2022-08-11    57149200  \n",
       "2022-08-12    67946400  \n",
       "\n",
       "[6953 rows x 6 columns]"
      ]
     },
     "execution_count": 20,
     "metadata": {},
     "output_type": "execute_result"
    }
   ],
   "source": [
    "add_stock_price('aapl')"
   ]
  },
  {
   "cell_type": "code",
   "execution_count": 21,
   "metadata": {},
   "outputs": [],
   "source": [
    "out = []\n",
    "for i in sectors:\n",
    "    out.append((i, len(add_stock_price(i).dropna())))"
   ]
  },
  {
   "cell_type": "code",
   "execution_count": 22,
   "metadata": {},
   "outputs": [
    {
     "data": {
      "text/plain": [
       "[('xlc', 1046),\n",
       " ('xlre', 1724),\n",
       " ('jets', 1836),\n",
       " ('weat', 2743),\n",
       " ('bno', 3062),\n",
       " ('corn', 3067),\n",
       " ('tan', 3609),\n",
       " ('moo', 3762),\n",
       " ('uup', 3892),\n",
       " ('fdn', 4060),\n",
       " ('xrt', 4064),\n",
       " ('xme', 4064),\n",
       " ('gdx', 4086),\n",
       " ('itb', 4097),\n",
       " ('pho', 4200),\n",
       " ('pbw', 4393),\n",
       " ('lqd', 5046),\n",
       " ('tlt', 5046),\n",
       " ('igv', 5303),\n",
       " ('ibb', 5410),\n",
       " ('smh', 5584),\n",
       " ('xly', 5949),\n",
       " ('xlk', 5949),\n",
       " ('xlv', 5949),\n",
       " ('xlu', 5949),\n",
       " ('xlp', 5949),\n",
       " ('xli', 5949),\n",
       " ('xlf', 5949),\n",
       " ('xlb', 5949),\n",
       " ('xle', 5949),\n",
       " ('spy', 6953),\n",
       " ('aapl', 6953)]"
      ]
     },
     "execution_count": 22,
     "metadata": {},
     "output_type": "execute_result"
    }
   ],
   "source": [
    "sorted(out, key = lambda x: x[1], reverse = False)"
   ]
  },
  {
   "cell_type": "code",
   "execution_count": null,
   "metadata": {},
   "outputs": [],
   "source": []
  }
 ],
 "metadata": {
  "kernelspec": {
   "display_name": "Python 3.9.7 ('dsenv')",
   "language": "python",
   "name": "python3"
  },
  "language_info": {
   "codemirror_mode": {
    "name": "ipython",
    "version": 3
   },
   "file_extension": ".py",
   "mimetype": "text/x-python",
   "name": "python",
   "nbconvert_exporter": "python",
   "pygments_lexer": "ipython3",
   "version": "3.9.7"
  },
  "orig_nbformat": 4,
  "vscode": {
   "interpreter": {
    "hash": "ee8f712fe58a2a1e8e7343d3189c469d59f4822b637ab3b767b226c4ae987255"
   }
  }
 },
 "nbformat": 4,
 "nbformat_minor": 2
}
